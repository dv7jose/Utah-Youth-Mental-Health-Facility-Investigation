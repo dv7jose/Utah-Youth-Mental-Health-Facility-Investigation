{
 "cells": [
  {
   "cell_type": "code",
   "execution_count": 2,
   "id": "9a4a3173-35d7-467d-bcf3-72601fd9e1e1",
   "metadata": {},
   "outputs": [],
   "source": [
    "import pandas as pd"
   ]
  },
  {
   "cell_type": "code",
   "execution_count": 3,
   "id": "5a128e15-4071-45f3-b7b3-ba719edb4ecc",
   "metadata": {},
   "outputs": [],
   "source": [
    "import altair as alt"
   ]
  },
  {
   "cell_type": "code",
   "execution_count": 4,
   "id": "4a1a9c8a-a57f-4861-8775-157bfd103281",
   "metadata": {},
   "outputs": [
    {
     "data": {
      "text/plain": [
       "RendererRegistry.enable('default')"
      ]
     },
     "execution_count": 4,
     "metadata": {},
     "output_type": "execute_result"
    }
   ],
   "source": [
    "alt.renderers.enable('default')"
   ]
  },
  {
   "cell_type": "code",
   "execution_count": 5,
   "id": "cd8166a3-915a-4379-a449-1074a1a33edd",
   "metadata": {},
   "outputs": [],
   "source": [
    "df = pd.read_csv(\"/Users/josemartinez/Desktop/cleaned_critical_incidents.csv\")"
   ]
  },
  {
   "cell_type": "code",
   "execution_count": 6,
   "id": "07b5feaf-c571-438e-8ece-9a4c0e98fa74",
   "metadata": {},
   "outputs": [
    {
     "data": {
      "text/plain": [
       "array(['facility_name', 'investigation_name', 'start_date',\n",
       "       'incident_date', 'reported_date', 'finalized_date', 'summary',\n",
       "       'conclusion', 'file_path', 'start_date_year', 'incident_date_year',\n",
       "       'reported_date_year', 'finalized_date_year'], dtype=object)"
      ]
     },
     "execution_count": 6,
     "metadata": {},
     "output_type": "execute_result"
    }
   ],
   "source": [
    "df.columns.values"
   ]
  },
  {
   "cell_type": "code",
   "execution_count": 8,
   "id": "1fd3f218-b813-48a7-8676-bcb7dcaccca6",
   "metadata": {},
   "outputs": [
    {
     "data": {
      "text/plain": [
       "273"
      ]
     },
     "execution_count": 8,
     "metadata": {},
     "output_type": "execute_result"
    }
   ],
   "source": [
    "df.summary.count()"
   ]
  },
  {
   "cell_type": "code",
   "execution_count": 9,
   "id": "be605e94-9fb4-4543-84c6-647c0e410be4",
   "metadata": {},
   "outputs": [
    {
     "data": {
      "text/plain": [
       "36"
      ]
     },
     "execution_count": 9,
     "metadata": {},
     "output_type": "execute_result"
    }
   ],
   "source": [
    "df.investigation_name.str.contains('sexual',case=False,regex=False).sum()"
   ]
  },
  {
   "cell_type": "code",
   "execution_count": 10,
   "id": "c59dd982-9a8f-4ef8-ba40-cd29485ca83f",
   "metadata": {},
   "outputs": [
    {
     "data": {
      "text/plain": [
       "13.186813186813188"
      ]
     },
     "execution_count": 10,
     "metadata": {},
     "output_type": "execute_result"
    }
   ],
   "source": [
    "(36/273)*100"
   ]
  },
  {
   "cell_type": "code",
   "execution_count": 11,
   "id": "6663194d-03c8-426e-8a0a-5abefa5d82e3",
   "metadata": {},
   "outputs": [
    {
     "data": {
      "text/plain": [
       "11"
      ]
     },
     "execution_count": 11,
     "metadata": {},
     "output_type": "execute_result"
    }
   ],
   "source": [
    "df.investigation_name.isna().sum()"
   ]
  },
  {
   "cell_type": "code",
   "execution_count": 12,
   "id": "73e1b333-49d6-4db9-b791-7ef7097f6aa8",
   "metadata": {},
   "outputs": [],
   "source": [
    "sa=df[['investigation_name','start_date_year']]"
   ]
  },
  {
   "cell_type": "code",
   "execution_count": 13,
   "id": "3d8ff259-e7c6-475b-96d6-6cca706b68d2",
   "metadata": {},
   "outputs": [
    {
     "data": {
      "text/plain": [
       "(273, 2)"
      ]
     },
     "execution_count": 13,
     "metadata": {},
     "output_type": "execute_result"
    }
   ],
   "source": [
    "sa.shape"
   ]
  },
  {
   "cell_type": "code",
   "execution_count": 14,
   "id": "0fe33cc9-eada-40e0-a6b2-fd1fb827a866",
   "metadata": {},
   "outputs": [],
   "source": [
    "sa1 = sa[(sa['start_date_year']== 2020)].investigation_name.str.contains('sexual',case=False,regex=False).sum()"
   ]
  },
  {
   "cell_type": "code",
   "execution_count": 15,
   "id": "b996dcf4-0ba1-4fce-be7a-df146f8f0372",
   "metadata": {},
   "outputs": [
    {
     "name": "stdout",
     "output_type": "stream",
     "text": [
      "\n",
      "     Investigations Related to Sexual Misconduct or Abuse in 2020 = 14\n",
      "     Investigations Related to Sexual Misconduct or Abuse in 2019 = 19\n",
      "     Investigations Related to Sexual Misconduct or Abuse in 2018 = 1\n",
      "     Investigations Related to Sexual Misconduct or Abuse in 2017= 0\n"
     ]
    }
   ],
   "source": [
    "print(f'''\n",
    "     Investigations Related to Sexual Misconduct or Abuse in 2020 = {sa[(sa['start_date_year']== 2020)].investigation_name.str.contains('sexual',case=False,regex=False).sum()}\n",
    "     Investigations Related to Sexual Misconduct or Abuse in 2019 = {sa[(sa['start_date_year']== 2019)].investigation_name.str.contains('sexual',case=False,regex=False).sum()}\n",
    "     Investigations Related to Sexual Misconduct or Abuse in 2018 = {sa[(sa['start_date_year']== 2018)].investigation_name.str.contains('sexual',case=False,regex=False).sum()}\n",
    "     Investigations Related to Sexual Misconduct or Abuse in 2017= {sa[(sa['start_date_year']== 2017)].investigation_name.str.contains('sexual',case=False,regex=False).sum()}''')"
   ]
  },
  {
   "cell_type": "code",
   "execution_count": 16,
   "id": "718a46ea-af28-4bb0-a330-1593781705f3",
   "metadata": {},
   "outputs": [],
   "source": [
    "df1 = df.facility_name.value_counts().rename_axis('Facilities').reset_index(name='Incidents')"
   ]
  },
  {
   "cell_type": "code",
   "execution_count": 17,
   "id": "f88f320c-0518-49ba-9dcc-c8d02f274166",
   "metadata": {},
   "outputs": [
    {
     "data": {
      "text/plain": [
       "(93, 2)"
      ]
     },
     "execution_count": 17,
     "metadata": {},
     "output_type": "execute_result"
    }
   ],
   "source": [
    "df1.shape"
   ]
  },
  {
   "cell_type": "code",
   "execution_count": 18,
   "id": "ec6a1db0-f816-4a9b-94dd-b406546b2f74",
   "metadata": {},
   "outputs": [],
   "source": [
    "data = df1[:5]"
   ]
  },
  {
   "cell_type": "code",
   "execution_count": 19,
   "id": "4810304e-1e7a-40b9-b5c8-70a9eba58b64",
   "metadata": {},
   "outputs": [],
   "source": [
    "data1 = data.copy()"
   ]
  },
  {
   "cell_type": "code",
   "execution_count": 20,
   "id": "f056f9b3-5ed4-4cc1-9ee5-0b3d8a4e8bfe",
   "metadata": {},
   "outputs": [],
   "source": [
    "data1['Facilities'] = data1['Facilities'].str.replace('__critical_conditions', '').str.replace('_',' ').str.title()"
   ]
  },
  {
   "cell_type": "code",
   "execution_count": 21,
   "id": "cca70bd4-0e1b-40cc-b012-3896f4817c68",
   "metadata": {},
   "outputs": [
    {
     "name": "stdout",
     "output_type": "stream",
     "text": [
      "                                          Facilities  Incidents\n",
      "0  Provo Canyon School Provo Canyon Springville  ...         15\n",
      "1  Provo Canyon School Provo Canyon School   Crit...         14\n",
      "2  Youth Health Associates Draper Ranch Yha Drape...         10\n",
      "3  Three Points Center Three Points Center   Crit...         10\n",
      "4  Cinnamon Hills Youth Crisis Center Cinnamon Hi...          9\n"
     ]
    }
   ],
   "source": [
    "print(data1)"
   ]
  },
  {
   "cell_type": "code",
   "execution_count": 22,
   "id": "a909e146-4d32-4366-90e5-0cc87a0ef406",
   "metadata": {},
   "outputs": [
    {
     "data": {
      "text/html": [
       "\n",
       "<div id=\"altair-viz-b0018b2046ac4a0b9e3cf02b5ca00746\"></div>\n",
       "<script type=\"text/javascript\">\n",
       "  (function(spec, embedOpt){\n",
       "    let outputDiv = document.currentScript.previousElementSibling;\n",
       "    if (outputDiv.id !== \"altair-viz-b0018b2046ac4a0b9e3cf02b5ca00746\") {\n",
       "      outputDiv = document.getElementById(\"altair-viz-b0018b2046ac4a0b9e3cf02b5ca00746\");\n",
       "    }\n",
       "    const paths = {\n",
       "      \"vega\": \"https://cdn.jsdelivr.net/npm//vega@5?noext\",\n",
       "      \"vega-lib\": \"https://cdn.jsdelivr.net/npm//vega-lib?noext\",\n",
       "      \"vega-lite\": \"https://cdn.jsdelivr.net/npm//vega-lite@4.8.1?noext\",\n",
       "      \"vega-embed\": \"https://cdn.jsdelivr.net/npm//vega-embed@6?noext\",\n",
       "    };\n",
       "\n",
       "    function loadScript(lib) {\n",
       "      return new Promise(function(resolve, reject) {\n",
       "        var s = document.createElement('script');\n",
       "        s.src = paths[lib];\n",
       "        s.async = true;\n",
       "        s.onload = () => resolve(paths[lib]);\n",
       "        s.onerror = () => reject(`Error loading script: ${paths[lib]}`);\n",
       "        document.getElementsByTagName(\"head\")[0].appendChild(s);\n",
       "      });\n",
       "    }\n",
       "\n",
       "    function showError(err) {\n",
       "      outputDiv.innerHTML = `<div class=\"error\" style=\"color:red;\">${err}</div>`;\n",
       "      throw err;\n",
       "    }\n",
       "\n",
       "    function displayChart(vegaEmbed) {\n",
       "      vegaEmbed(outputDiv, spec, embedOpt)\n",
       "        .catch(err => showError(`Javascript Error: ${err.message}<br>This usually means there's a typo in your chart specification. See the javascript console for the full traceback.`));\n",
       "    }\n",
       "\n",
       "    if(typeof define === \"function\" && define.amd) {\n",
       "      requirejs.config({paths});\n",
       "      require([\"vega-embed\"], displayChart, err => showError(`Error loading script: ${err.message}`));\n",
       "    } else if (typeof vegaEmbed === \"function\") {\n",
       "      displayChart(vegaEmbed);\n",
       "    } else {\n",
       "      loadScript(\"vega\")\n",
       "        .then(() => loadScript(\"vega-lite\"))\n",
       "        .then(() => loadScript(\"vega-embed\"))\n",
       "        .catch(showError)\n",
       "        .then(() => displayChart(vegaEmbed));\n",
       "    }\n",
       "  })({\"config\": {\"view\": {\"continuousWidth\": 400, \"continuousHeight\": 300}}, \"data\": {\"name\": \"data-45e4775664a81097825ac3f83fcb2698\"}, \"mark\": \"bar\", \"encoding\": {\"color\": {\"value\": \"#FF9F8A\"}, \"x\": {\"type\": \"nominal\", \"field\": \"Facilities\"}, \"y\": {\"type\": \"quantitative\", \"field\": \"Incidents\"}}, \"height\": 500, \"width\": 1000, \"$schema\": \"https://vega.github.io/schema/vega-lite/v4.8.1.json\", \"datasets\": {\"data-45e4775664a81097825ac3f83fcb2698\": [{\"Facilities\": \"Provo Canyon School Provo Canyon Springville   Critical Incidents\", \"Incidents\": 15}, {\"Facilities\": \"Provo Canyon School Provo Canyon School   Critical Incidents\", \"Incidents\": 14}, {\"Facilities\": \"Youth Health Associates Draper Ranch Yha Draper Ranch   Critical Incidents\", \"Incidents\": 10}, {\"Facilities\": \"Three Points Center Three Points Center   Critical Incidents\", \"Incidents\": 10}, {\"Facilities\": \"Cinnamon Hills Youth Crisis Center Cinnamon Hills   Critical Incidents\", \"Incidents\": 9}]}}, {\"mode\": \"vega-lite\"});\n",
       "</script>"
      ],
      "text/plain": [
       "alt.Chart(...)"
      ]
     },
     "execution_count": 22,
     "metadata": {},
     "output_type": "execute_result"
    }
   ],
   "source": [
    "alt.Chart(data1).mark_bar().encode(\n",
    "x='Facilities',\n",
    "y='Incidents:Q',\n",
    "color=alt.value(\"#FF9F8A\")).properties(\n",
    "    width=1000,\n",
    "    height=500\n",
    ")"
   ]
  },
  {
   "cell_type": "code",
   "execution_count": 24,
   "id": "d86aa8b6-989f-4b57-b330-4f557a9cd581",
   "metadata": {},
   "outputs": [],
   "source": [
    "dfstart=df['start_date_year']"
   ]
  },
  {
   "cell_type": "code",
   "execution_count": 26,
   "id": "ac89b71d-9aa2-4567-a0a1-2549264894a4",
   "metadata": {},
   "outputs": [
    {
     "data": {
      "text/plain": [
       "2019.0    126\n",
       "2020.0    112\n",
       "2018.0     21\n",
       "2017.0      9\n",
       "Name: start_date_year, dtype: int64"
      ]
     },
     "execution_count": 26,
     "metadata": {},
     "output_type": "execute_result"
    }
   ],
   "source": [
    "dfstart.value_counts()"
   ]
  },
  {
   "cell_type": "code",
   "execution_count": 27,
   "id": "ae3a0bd0-5192-4077-9796-64229a71fe73",
   "metadata": {},
   "outputs": [
    {
     "data": {
      "text/plain": [
       "70"
      ]
     },
     "execution_count": 27,
     "metadata": {},
     "output_type": "execute_result"
    }
   ],
   "source": [
    "df.reported_date_year.isna().sum()"
   ]
  },
  {
   "cell_type": "code",
   "execution_count": 28,
   "id": "31280893-79a3-4017-a6ab-0619fc943c6c",
   "metadata": {},
   "outputs": [
    {
     "data": {
      "text/plain": [
       "5"
      ]
     },
     "execution_count": 28,
     "metadata": {},
     "output_type": "execute_result"
    }
   ],
   "source": [
    "df.start_date_year.isna().sum()"
   ]
  },
  {
   "cell_type": "code",
   "execution_count": 29,
   "id": "bd41e288-76b0-4795-a8ff-6eef9475b4cc",
   "metadata": {},
   "outputs": [
    {
     "data": {
      "text/plain": [
       "3"
      ]
     },
     "execution_count": 29,
     "metadata": {},
     "output_type": "execute_result"
    }
   ],
   "source": [
    "df.finalized_date_year.isna().sum()"
   ]
  },
  {
   "cell_type": "code",
   "execution_count": 30,
   "id": "1b6b90f1-a2ec-4db8-a4db-e270c7b8d805",
   "metadata": {},
   "outputs": [
    {
     "name": "stdout",
     "output_type": "stream",
     "text": [
      "\n",
      "     Reported Date Year NA = 70\n",
      "     Start Date Year NA = 5\n",
      "     Finalized Date Year NA = 3\n",
      "     Incident Date Year NA = 72\n"
     ]
    }
   ],
   "source": [
    "print(f'''\n",
    "     Reported Date Year NA = {df.reported_date_year.isna().sum()}\n",
    "     Start Date Year NA = {df.start_date_year.isna().sum()}\n",
    "     Finalized Date Year NA = {df.finalized_date_year.isna().sum()}\n",
    "     Incident Date Year NA = {df.incident_date_year.isna().sum()}''')"
   ]
  }
 ],
 "metadata": {
  "kernelspec": {
   "display_name": "Python 3",
   "language": "python",
   "name": "python3"
  },
  "language_info": {
   "codemirror_mode": {
    "name": "ipython",
    "version": 3
   },
   "file_extension": ".py",
   "mimetype": "text/x-python",
   "name": "python",
   "nbconvert_exporter": "python",
   "pygments_lexer": "ipython3",
   "version": "3.9.5"
  }
 },
 "nbformat": 4,
 "nbformat_minor": 5
}
