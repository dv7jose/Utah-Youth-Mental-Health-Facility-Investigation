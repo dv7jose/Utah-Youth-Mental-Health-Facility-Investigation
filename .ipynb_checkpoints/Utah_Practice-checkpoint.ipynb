{
 "cells": [
  {
   "cell_type": "markdown",
   "id": "8cd06022-8094-4b3f-9388-c9c6f0f3e159",
   "metadata": {},
   "source": [
    "# Critical Incidents in Youth Mental Health Facilities in Utah\n",
    "\n",
    "[Story](https://www.apmreports.org/story/2021/06/23/provo-canyon-school-utah-teen-concussion): Utah Found Few Rule Violations for Years<br /> \n",
    "Data Reporter: Will Craft, wcraft@apmreports.org<br /> \n",
    "Data Analysis Fact Checker: José Martínez, martinez307jose@gmail.com\n",
    "\n",
    "\n",
    "\"Up until 2019, the agency regulating Utah’s massive youth treatment industry rarely cited facilities for violating rules — even after cases of abuse. After a 2016 incident left a teenager with a concussion, state regulators listened to his mom’s complaint — and then did nothing about it.\"\n",
    "\n",
    "\"The lack of enforcement came to light thanks to a trove of never-before-seen records published this year by The Salt Lake Tribune, APM Reports and KUER. The three news organizations joined forces to publish five years of inspection reports and citations for rule violations from the 159 residential and wilderness programs that operated in Utah during that time period.\"\n",
    "\n",
    "### Data Overview\n",
    "\n",
    "The raw data was obtained through a records request made by APM Reports. Dozens of pdf files were scraped into the following spreadsheet: \"cleaned_critical_incidents.csv\"\n",
    "\n",
    "The spreadsheet contains all the critical incidents reports filed by youth mental health facilities around Utah. The spreadsheet contains the following:\n",
    "• Facility\n",
    "• Investigation name\n",
    "• Summary of the incident\n",
    "• Conclusion\n",
    "• Timeline concerning the start and end date of the investigation\n",
    "• Date that the incident occurred.\n",
    "\n",
    "With that information, we used pandas to filter investigations by facility, filter investigations by year, and filter investigations concerning sexual abuse or conduct by year.\n",
    "\n",
    "Will Craft led the data analysis, and as a way to begin my internship with APM Reports, he had me fact check his work for this story so that I can warm up my data analysis skills.\n",
    "\n",
    "It's important to note that the final chart in the story has different numbers than the original analysis. Reason being, the leading reporters added notice of agency actions from https://hslic.utah.gov/notices-of-agency-action. That is not reflected in this analysis.\n"
   ]
  },
  {
   "cell_type": "code",
   "execution_count": 65,
   "id": "06dee147-47eb-42cf-a6fa-be90646785bb",
   "metadata": {},
   "outputs": [],
   "source": [
    "import pandas as pd"
   ]
  },
  {
   "cell_type": "code",
   "execution_count": 66,
   "id": "5a128e15-4071-45f3-b7b3-ba719edb4ecc",
   "metadata": {},
   "outputs": [],
   "source": [
    "import altair as alt"
   ]
  },
  {
   "cell_type": "code",
   "execution_count": 99,
   "id": "241721ec-a862-44f7-aaca-cb2868d29614",
   "metadata": {},
   "outputs": [],
   "source": [
    "from altair_saver import save"
   ]
  },
  {
   "cell_type": "code",
   "execution_count": 68,
   "id": "d358a327-463e-4aa8-af8d-49fec5a648ef",
   "metadata": {},
   "outputs": [],
   "source": [
    "from collections import OrderedDict"
   ]
  },
  {
   "cell_type": "code",
   "execution_count": 69,
   "id": "4a1a9c8a-a57f-4861-8775-157bfd103281",
   "metadata": {},
   "outputs": [
    {
     "data": {
      "text/plain": [
       "RendererRegistry.enable('default')"
      ]
     },
     "execution_count": 69,
     "metadata": {},
     "output_type": "execute_result"
    }
   ],
   "source": [
    "alt.renderers.enable('default')"
   ]
  },
  {
   "cell_type": "code",
   "execution_count": 70,
   "id": "cd8166a3-915a-4379-a449-1074a1a33edd",
   "metadata": {},
   "outputs": [],
   "source": [
    "df = pd.read_csv(\"/Users/josemartinez/Desktop/Code/utah/cleaned_critical_incidents.csv\")"
   ]
  },
  {
   "cell_type": "code",
   "execution_count": 71,
   "id": "07b5feaf-c571-438e-8ece-9a4c0e98fa74",
   "metadata": {},
   "outputs": [
    {
     "data": {
      "text/plain": [
       "Index(['facility_name', 'investigation_name', 'start_date', 'incident_date',\n",
       "       'reported_date', 'finalized_date', 'summary', 'conclusion', 'file_path',\n",
       "       'start_date_year', 'incident_date_year', 'reported_date_year',\n",
       "       'finalized_date_year'],\n",
       "      dtype='object')"
      ]
     },
     "execution_count": 71,
     "metadata": {},
     "output_type": "execute_result"
    }
   ],
   "source": [
    "df.columns"
   ]
  },
  {
   "cell_type": "markdown",
   "id": "e5f5aa29-96c8-4cd9-b70c-9fc176637402",
   "metadata": {},
   "source": [
    "# Below, I start figuring out informatino about sexual misconduct and abuse cases."
   ]
  },
  {
   "cell_type": "code",
   "execution_count": 72,
   "id": "1fd3f218-b813-48a7-8676-bcb7dcaccca6",
   "metadata": {},
   "outputs": [
    {
     "data": {
      "text/plain": [
       "273"
      ]
     },
     "execution_count": 72,
     "metadata": {},
     "output_type": "execute_result"
    }
   ],
   "source": [
    "# Each row is an incident, so I'm figuring out how many incidents there are in total.\n",
    "df.summary.count()"
   ]
  },
  {
   "cell_type": "code",
   "execution_count": 73,
   "id": "be605e94-9fb4-4543-84c6-647c0e410be4",
   "metadata": {},
   "outputs": [
    {
     "data": {
      "text/plain": [
       "36"
      ]
     },
     "execution_count": 73,
     "metadata": {},
     "output_type": "execute_result"
    }
   ],
   "source": [
    "# I was interested in seeing how many incidents involved some sort of sexual abuse or misconduct,\n",
    "# so I searched for the string in the investigation name.\n",
    "df.investigation_name.str.contains('sexual',case=False,regex=False).sum()"
   ]
  },
  {
   "cell_type": "code",
   "execution_count": 74,
   "id": "c59dd982-9a8f-4ef8-ba40-cd29485ca83f",
   "metadata": {},
   "outputs": [
    {
     "data": {
      "text/plain": [
       "13.186813186813188"
      ]
     },
     "execution_count": 74,
     "metadata": {},
     "output_type": "execute_result"
    }
   ],
   "source": [
    "# Percentage of investigations that involve sexual abuse or misconduct.\n",
    "(36/273)*100"
   ]
  },
  {
   "cell_type": "code",
   "execution_count": 75,
   "id": "6663194d-03c8-426e-8a0a-5abefa5d82e3",
   "metadata": {},
   "outputs": [
    {
     "data": {
      "text/plain": [
       "11"
      ]
     },
     "execution_count": 75,
     "metadata": {},
     "output_type": "execute_result"
    }
   ],
   "source": [
    "# However, I had forgotten to check if any values for empty, so I had to account for that\n",
    "df.investigation_name.isna().sum()"
   ]
  },
  {
   "cell_type": "code",
   "execution_count": 76,
   "id": "73e1b333-49d6-4db9-b791-7ef7097f6aa8",
   "metadata": {},
   "outputs": [],
   "source": [
    "# new dataframe with only investigation name and year that it started\n",
    "sa=df[['investigation_name','start_date_year']]"
   ]
  },
  {
   "cell_type": "code",
   "execution_count": 77,
   "id": "0fe33cc9-eada-40e0-a6b2-fd1fb827a866",
   "metadata": {},
   "outputs": [],
   "source": [
    "#Wanted to see how many sexual abuse investigations there were in 2020\n",
    "sa1 = sa[(sa['start_date_year']== 2020)].investigation_name.str.contains('sexual',case=False,regex=False).sum()"
   ]
  },
  {
   "cell_type": "code",
   "execution_count": 78,
   "id": "b996dcf4-0ba1-4fce-be7a-df146f8f0372",
   "metadata": {},
   "outputs": [
    {
     "name": "stdout",
     "output_type": "stream",
     "text": [
      "\n",
      "     Investigations Related to Sexual Misconduct or Abuse in 2020 = 14\n",
      "     Investigations Related to Sexual Misconduct or Abuse in 2019 = 19\n",
      "     Investigations Related to Sexual Misconduct or Abuse in 2018 = 1\n",
      "     Investigations Related to Sexual Misconduct or Abuse in 2017= 0\n"
     ]
    }
   ],
   "source": [
    "# Here, I learned a cool way to print both the analysis of each year and text to categorize it\n",
    "print(f'''\n",
    "     Investigations Related to Sexual Misconduct or Abuse in 2020 = {sa[(sa['start_date_year']== 2020)].investigation_name.str.contains('sexual',case=False,regex=False).sum()}\n",
    "     Investigations Related to Sexual Misconduct or Abuse in 2019 = {sa[(sa['start_date_year']== 2019)].investigation_name.str.contains('sexual',case=False,regex=False).sum()}\n",
    "     Investigations Related to Sexual Misconduct or Abuse in 2018 = {sa[(sa['start_date_year']== 2018)].investigation_name.str.contains('sexual',case=False,regex=False).sum()}\n",
    "     Investigations Related to Sexual Misconduct or Abuse in 2017= {sa[(sa['start_date_year']== 2017)].investigation_name.str.contains('sexual',case=False,regex=False).sum()}''')"
   ]
  },
  {
   "cell_type": "markdown",
   "id": "e18e01bb-4362-4358-9787-3e9b25e65df9",
   "metadata": {},
   "source": [
    "## Below, I start figuring out the number of incidents by facility"
   ]
  },
  {
   "cell_type": "code",
   "execution_count": 79,
   "id": "718a46ea-af28-4bb0-a330-1593781705f3",
   "metadata": {},
   "outputs": [
    {
     "data": {
      "text/html": [
       "<div>\n",
       "<style scoped>\n",
       "    .dataframe tbody tr th:only-of-type {\n",
       "        vertical-align: middle;\n",
       "    }\n",
       "\n",
       "    .dataframe tbody tr th {\n",
       "        vertical-align: top;\n",
       "    }\n",
       "\n",
       "    .dataframe thead th {\n",
       "        text-align: right;\n",
       "    }\n",
       "</style>\n",
       "<table border=\"1\" class=\"dataframe\">\n",
       "  <thead>\n",
       "    <tr style=\"text-align: right;\">\n",
       "      <th></th>\n",
       "      <th>Facilities</th>\n",
       "      <th>Incidents</th>\n",
       "    </tr>\n",
       "  </thead>\n",
       "  <tbody>\n",
       "    <tr>\n",
       "      <th>0</th>\n",
       "      <td>provo_canyon_school_provo_canyon_springville__...</td>\n",
       "      <td>15</td>\n",
       "    </tr>\n",
       "    <tr>\n",
       "      <th>1</th>\n",
       "      <td>provo_canyon_school_provo_canyon_school___crit...</td>\n",
       "      <td>14</td>\n",
       "    </tr>\n",
       "    <tr>\n",
       "      <th>2</th>\n",
       "      <td>three_points_center_three_points_center___crit...</td>\n",
       "      <td>10</td>\n",
       "    </tr>\n",
       "    <tr>\n",
       "      <th>3</th>\n",
       "      <td>youth_health_associates_draper_ranch_yha_drape...</td>\n",
       "      <td>10</td>\n",
       "    </tr>\n",
       "    <tr>\n",
       "      <th>4</th>\n",
       "      <td>cinnamon_hills_youth_crisis_center_cinnamon_hi...</td>\n",
       "      <td>9</td>\n",
       "    </tr>\n",
       "    <tr>\n",
       "      <th>...</th>\n",
       "      <td>...</td>\n",
       "      <td>...</td>\n",
       "    </tr>\n",
       "    <tr>\n",
       "      <th>88</th>\n",
       "      <td>lifeline_behavioral_health_lifeline___critical...</td>\n",
       "      <td>1</td>\n",
       "    </tr>\n",
       "    <tr>\n",
       "      <th>89</th>\n",
       "      <td>liahona_academy_for_youth_virgin_liahona_virgi...</td>\n",
       "      <td>1</td>\n",
       "    </tr>\n",
       "    <tr>\n",
       "      <th>90</th>\n",
       "      <td>discovery_academy_discovery_connections_discov...</td>\n",
       "      <td>1</td>\n",
       "    </tr>\n",
       "    <tr>\n",
       "      <th>91</th>\n",
       "      <td>alpine_academy_willow_creek_home_willow_creek_...</td>\n",
       "      <td>1</td>\n",
       "    </tr>\n",
       "    <tr>\n",
       "      <th>92</th>\n",
       "      <td>maple_lake_academy_boys_home_maple_lake_boys__...</td>\n",
       "      <td>1</td>\n",
       "    </tr>\n",
       "  </tbody>\n",
       "</table>\n",
       "<p>93 rows × 2 columns</p>\n",
       "</div>"
      ],
      "text/plain": [
       "                                           Facilities  Incidents\n",
       "0   provo_canyon_school_provo_canyon_springville__...         15\n",
       "1   provo_canyon_school_provo_canyon_school___crit...         14\n",
       "2   three_points_center_three_points_center___crit...         10\n",
       "3   youth_health_associates_draper_ranch_yha_drape...         10\n",
       "4   cinnamon_hills_youth_crisis_center_cinnamon_hi...          9\n",
       "..                                                ...        ...\n",
       "88  lifeline_behavioral_health_lifeline___critical...          1\n",
       "89  liahona_academy_for_youth_virgin_liahona_virgi...          1\n",
       "90  discovery_academy_discovery_connections_discov...          1\n",
       "91  alpine_academy_willow_creek_home_willow_creek_...          1\n",
       "92  maple_lake_academy_boys_home_maple_lake_boys__...          1\n",
       "\n",
       "[93 rows x 2 columns]"
      ]
     },
     "execution_count": 79,
     "metadata": {},
     "output_type": "execute_result"
    }
   ],
   "source": [
    "# here i see the amount of times each facility was mentioned in the doc.\n",
    "# It seems provo canyon springville had the most incidents\n",
    "df1 = df.facility_name.value_counts().rename_axis('Facilities').reset_index(name='Incidents')\n",
    "df1"
   ]
  },
  {
   "cell_type": "code",
   "execution_count": 80,
   "id": "f88f320c-0518-49ba-9dcc-c8d02f274166",
   "metadata": {},
   "outputs": [
    {
     "data": {
      "text/plain": [
       "(93, 2)"
      ]
     },
     "execution_count": 80,
     "metadata": {},
     "output_type": "execute_result"
    }
   ],
   "source": [
    "df1.shape"
   ]
  },
  {
   "cell_type": "code",
   "execution_count": 81,
   "id": "ec6a1db0-f816-4a9b-94dd-b406546b2f74",
   "metadata": {},
   "outputs": [
    {
     "data": {
      "text/html": [
       "<div>\n",
       "<style scoped>\n",
       "    .dataframe tbody tr th:only-of-type {\n",
       "        vertical-align: middle;\n",
       "    }\n",
       "\n",
       "    .dataframe tbody tr th {\n",
       "        vertical-align: top;\n",
       "    }\n",
       "\n",
       "    .dataframe thead th {\n",
       "        text-align: right;\n",
       "    }\n",
       "</style>\n",
       "<table border=\"1\" class=\"dataframe\">\n",
       "  <thead>\n",
       "    <tr style=\"text-align: right;\">\n",
       "      <th></th>\n",
       "      <th>Facilities</th>\n",
       "      <th>Incidents</th>\n",
       "    </tr>\n",
       "  </thead>\n",
       "  <tbody>\n",
       "    <tr>\n",
       "      <th>0</th>\n",
       "      <td>provo_canyon_school_provo_canyon_springville__...</td>\n",
       "      <td>15</td>\n",
       "    </tr>\n",
       "    <tr>\n",
       "      <th>1</th>\n",
       "      <td>provo_canyon_school_provo_canyon_school___crit...</td>\n",
       "      <td>14</td>\n",
       "    </tr>\n",
       "    <tr>\n",
       "      <th>2</th>\n",
       "      <td>three_points_center_three_points_center___crit...</td>\n",
       "      <td>10</td>\n",
       "    </tr>\n",
       "    <tr>\n",
       "      <th>3</th>\n",
       "      <td>youth_health_associates_draper_ranch_yha_drape...</td>\n",
       "      <td>10</td>\n",
       "    </tr>\n",
       "    <tr>\n",
       "      <th>4</th>\n",
       "      <td>cinnamon_hills_youth_crisis_center_cinnamon_hi...</td>\n",
       "      <td>9</td>\n",
       "    </tr>\n",
       "  </tbody>\n",
       "</table>\n",
       "</div>"
      ],
      "text/plain": [
       "                                          Facilities  Incidents\n",
       "0  provo_canyon_school_provo_canyon_springville__...         15\n",
       "1  provo_canyon_school_provo_canyon_school___crit...         14\n",
       "2  three_points_center_three_points_center___crit...         10\n",
       "3  youth_health_associates_draper_ranch_yha_drape...         10\n",
       "4  cinnamon_hills_youth_crisis_center_cinnamon_hi...          9"
      ]
     },
     "execution_count": 81,
     "metadata": {},
     "output_type": "execute_result"
    }
   ],
   "source": [
    "# Was looking to just see the top five facilities with the most incidents\n",
    "data = df1[:5]\n",
    "data"
   ]
  },
  {
   "cell_type": "code",
   "execution_count": 82,
   "id": "57f4422b-fb1b-467e-96ed-b11adcda4e9c",
   "metadata": {},
   "outputs": [],
   "source": [
    "data1=data.copy()"
   ]
  },
  {
   "cell_type": "code",
   "execution_count": 83,
   "id": "6164443f-bf6f-41b1-809c-8af7e7544008",
   "metadata": {},
   "outputs": [],
   "source": [
    "# Cleaning time!!! Each value has underscores, isnt' capitalized, repeats certain phrases, so it was time to clean.\n",
    "data1['Facilities'] = data1['Facilities'].str.replace('__critical_incidents', '')"
   ]
  },
  {
   "cell_type": "code",
   "execution_count": 84,
   "id": "1397ffc3-3bd6-487d-8d3b-38580e61cb51",
   "metadata": {},
   "outputs": [],
   "source": [
    "data1['Facilities']=data1['Facilities'].str.replace('_',' ')"
   ]
  },
  {
   "cell_type": "code",
   "execution_count": 85,
   "id": "4ae4bcaa-e5a3-4a12-abf2-a6ac1cb24f9d",
   "metadata": {},
   "outputs": [],
   "source": [
    "data1['Facilities']=data1['Facilities'].str.title()"
   ]
  },
  {
   "cell_type": "code",
   "execution_count": 86,
   "id": "74be07fb-ac83-4d09-adf1-5003af93344f",
   "metadata": {},
   "outputs": [],
   "source": [
    "data1['Facilities']=data1['Facilities'].str.replace(\"Provo Canyon School\",'',1)"
   ]
  },
  {
   "cell_type": "code",
   "execution_count": 87,
   "id": "7553b2eb-faf1-4774-a8ab-5db07eb831b8",
   "metadata": {},
   "outputs": [],
   "source": [
    "data1['Facilities']=data1['Facilities'].str.replace('Three Points Center','',1)"
   ]
  },
  {
   "cell_type": "code",
   "execution_count": 88,
   "id": "70e0e729-9489-4cb9-886d-716093f39649",
   "metadata": {},
   "outputs": [],
   "source": [
    "data1['Facilities']=data1['Facilities'].str.replace('Synergy Cornish','',1)"
   ]
  },
  {
   "cell_type": "code",
   "execution_count": 89,
   "id": "bd4b268b-3ba7-4fe0-9284-cc7fd74400ea",
   "metadata": {},
   "outputs": [],
   "source": [
    "data1['Facilities']=data1['Facilities'].str.replace('Yha Draper Ranch','',1)"
   ]
  },
  {
   "cell_type": "code",
   "execution_count": 90,
   "id": "1cd59ff9-3530-4a9a-9519-4aca030cf9e1",
   "metadata": {},
   "outputs": [
    {
     "data": {
      "text/html": [
       "<div>\n",
       "<style scoped>\n",
       "    .dataframe tbody tr th:only-of-type {\n",
       "        vertical-align: middle;\n",
       "    }\n",
       "\n",
       "    .dataframe tbody tr th {\n",
       "        vertical-align: top;\n",
       "    }\n",
       "\n",
       "    .dataframe thead th {\n",
       "        text-align: right;\n",
       "    }\n",
       "</style>\n",
       "<table border=\"1\" class=\"dataframe\">\n",
       "  <thead>\n",
       "    <tr style=\"text-align: right;\">\n",
       "      <th></th>\n",
       "      <th>Facilities</th>\n",
       "      <th>Incidents</th>\n",
       "    </tr>\n",
       "  </thead>\n",
       "  <tbody>\n",
       "    <tr>\n",
       "      <th>0</th>\n",
       "      <td>Provo Canyon Springville</td>\n",
       "      <td>15</td>\n",
       "    </tr>\n",
       "    <tr>\n",
       "      <th>1</th>\n",
       "      <td>Provo Canyon School</td>\n",
       "      <td>14</td>\n",
       "    </tr>\n",
       "    <tr>\n",
       "      <th>2</th>\n",
       "      <td>Three Points Center</td>\n",
       "      <td>10</td>\n",
       "    </tr>\n",
       "    <tr>\n",
       "      <th>3</th>\n",
       "      <td>Youth Health Associates Draper Ranch</td>\n",
       "      <td>10</td>\n",
       "    </tr>\n",
       "    <tr>\n",
       "      <th>4</th>\n",
       "      <td>Cinnamon Hills Youth Crisis Center Cinnamon Hi...</td>\n",
       "      <td>9</td>\n",
       "    </tr>\n",
       "  </tbody>\n",
       "</table>\n",
       "</div>"
      ],
      "text/plain": [
       "                                          Facilities  Incidents\n",
       "0                          Provo Canyon Springville          15\n",
       "1                               Provo Canyon School          14\n",
       "2                               Three Points Center          10\n",
       "3             Youth Health Associates Draper Ranch           10\n",
       "4  Cinnamon Hills Youth Crisis Center Cinnamon Hi...          9"
      ]
     },
     "execution_count": 90,
     "metadata": {},
     "output_type": "execute_result"
    }
   ],
   "source": [
    "# Clean data looks great. Nice\n",
    "data1"
   ]
  },
  {
   "cell_type": "code",
   "execution_count": 100,
   "id": "a909e146-4d32-4366-90e5-0cc87a0ef406",
   "metadata": {},
   "outputs": [],
   "source": [
    "# My first ever attempt at visualization!! Will uses altair, so that's where I started.\n",
    "incidents_by_facility =  alt.Chart(data1, title=\"Critical Incidents by Facility\").mark_bar().encode(\n",
    "x=alt.X('Facilities',axis=alt.Axis(labelAngle=0),sort='y'),\n",
    "y='Incidents',\n",
    ").properties(\n",
    "    width=1000,\n",
    "    height=500)"
   ]
  },
  {
   "cell_type": "code",
   "execution_count": 102,
   "id": "c29faf33-f7c0-4678-954e-9e3fc3d837a0",
   "metadata": {},
   "outputs": [
    {
     "ename": "ValueError",
     "evalue": "No enabled saver found that supports format='png'",
     "output_type": "error",
     "traceback": [
      "\u001b[0;31m---------------------------------------------------------------------------\u001b[0m",
      "\u001b[0;31mValueError\u001b[0m                                Traceback (most recent call last)",
      "\u001b[0;32m<ipython-input-102-dfab4e66805a>\u001b[0m in \u001b[0;36m<module>\u001b[0;34m\u001b[0m\n\u001b[0;32m----> 1\u001b[0;31m \u001b[0msave\u001b[0m\u001b[0;34m(\u001b[0m\u001b[0mincidents_by_facility\u001b[0m\u001b[0;34m,\u001b[0m \u001b[0;34m\"incidents_by_facility.png\"\u001b[0m\u001b[0;34m)\u001b[0m\u001b[0;34m\u001b[0m\u001b[0;34m\u001b[0m\u001b[0m\n\u001b[0m",
      "\u001b[0;32m~/opt/anaconda3/lib/python3.8/site-packages/altair_saver/_core.py\u001b[0m in \u001b[0;36msave\u001b[0;34m(chart, fp, fmt, mode, embed_options, method, suppress_data_warning, **kwargs)\u001b[0m\n\u001b[1;32m    167\u001b[0m         \u001b[0membed_options\u001b[0m \u001b[0;34m=\u001b[0m \u001b[0malt\u001b[0m\u001b[0;34m.\u001b[0m\u001b[0mrenderers\u001b[0m\u001b[0;34m.\u001b[0m\u001b[0moptions\u001b[0m\u001b[0;34m.\u001b[0m\u001b[0mget\u001b[0m\u001b[0;34m(\u001b[0m\u001b[0;34m\"embed_options\"\u001b[0m\u001b[0;34m,\u001b[0m \u001b[0;32mNone\u001b[0m\u001b[0;34m)\u001b[0m\u001b[0;34m\u001b[0m\u001b[0;34m\u001b[0m\u001b[0m\n\u001b[1;32m    168\u001b[0m \u001b[0;34m\u001b[0m\u001b[0m\n\u001b[0;32m--> 169\u001b[0;31m     \u001b[0mSaver\u001b[0m \u001b[0;34m=\u001b[0m \u001b[0m_select_saver\u001b[0m\u001b[0;34m(\u001b[0m\u001b[0mmethod\u001b[0m\u001b[0;34m,\u001b[0m \u001b[0mmode\u001b[0m\u001b[0;34m=\u001b[0m\u001b[0mmode\u001b[0m\u001b[0;34m,\u001b[0m \u001b[0mfmt\u001b[0m\u001b[0;34m=\u001b[0m\u001b[0mfmt\u001b[0m\u001b[0;34m,\u001b[0m \u001b[0mfp\u001b[0m\u001b[0;34m=\u001b[0m\u001b[0mfp\u001b[0m\u001b[0;34m)\u001b[0m\u001b[0;34m\u001b[0m\u001b[0;34m\u001b[0m\u001b[0m\n\u001b[0m\u001b[1;32m    170\u001b[0m     \u001b[0msaver\u001b[0m \u001b[0;34m=\u001b[0m \u001b[0mSaver\u001b[0m\u001b[0;34m(\u001b[0m\u001b[0mspec\u001b[0m\u001b[0;34m,\u001b[0m \u001b[0mmode\u001b[0m\u001b[0;34m=\u001b[0m\u001b[0mmode\u001b[0m\u001b[0;34m,\u001b[0m \u001b[0membed_options\u001b[0m\u001b[0;34m=\u001b[0m\u001b[0membed_options\u001b[0m\u001b[0;34m,\u001b[0m \u001b[0;34m**\u001b[0m\u001b[0mkwargs\u001b[0m\u001b[0;34m)\u001b[0m\u001b[0;34m\u001b[0m\u001b[0;34m\u001b[0m\u001b[0m\n\u001b[1;32m    171\u001b[0m \u001b[0;34m\u001b[0m\u001b[0m\n",
      "\u001b[0;32m~/opt/anaconda3/lib/python3.8/site-packages/altair_saver/_core.py\u001b[0m in \u001b[0;36m_select_saver\u001b[0;34m(method, mode, fmt, fp)\u001b[0m\n\u001b[1;32m     67\u001b[0m             \u001b[0;32mif\u001b[0m \u001b[0ms\u001b[0m\u001b[0;34m.\u001b[0m\u001b[0menabled\u001b[0m\u001b[0;34m(\u001b[0m\u001b[0;34m)\u001b[0m \u001b[0;32mand\u001b[0m \u001b[0mfmt\u001b[0m \u001b[0;32min\u001b[0m \u001b[0ms\u001b[0m\u001b[0;34m.\u001b[0m\u001b[0mvalid_formats\u001b[0m\u001b[0;34m[\u001b[0m\u001b[0mmode\u001b[0m\u001b[0;34m]\u001b[0m\u001b[0;34m:\u001b[0m\u001b[0;34m\u001b[0m\u001b[0;34m\u001b[0m\u001b[0m\n\u001b[1;32m     68\u001b[0m                 \u001b[0;32mreturn\u001b[0m \u001b[0ms\u001b[0m\u001b[0;34m\u001b[0m\u001b[0;34m\u001b[0m\u001b[0m\n\u001b[0;32m---> 69\u001b[0;31m         \u001b[0;32mraise\u001b[0m \u001b[0mValueError\u001b[0m\u001b[0;34m(\u001b[0m\u001b[0;34mf\"No enabled saver found that supports format={fmt!r}\"\u001b[0m\u001b[0;34m)\u001b[0m\u001b[0;34m\u001b[0m\u001b[0;34m\u001b[0m\u001b[0m\n\u001b[0m\u001b[1;32m     70\u001b[0m     \u001b[0;32melse\u001b[0m\u001b[0;34m:\u001b[0m\u001b[0;34m\u001b[0m\u001b[0;34m\u001b[0m\u001b[0m\n\u001b[1;32m     71\u001b[0m         \u001b[0;32mraise\u001b[0m \u001b[0mValueError\u001b[0m\u001b[0;34m(\u001b[0m\u001b[0;34mf\"Unrecognized method: {method}\"\u001b[0m\u001b[0;34m)\u001b[0m\u001b[0;34m\u001b[0m\u001b[0;34m\u001b[0m\u001b[0m\n",
      "\u001b[0;31mValueError\u001b[0m: No enabled saver found that supports format='png'"
     ]
    }
   ],
   "source": [
    "save(incidents_by_facility, \"incidents_by_facility.png\")"
   ]
  },
  {
   "cell_type": "markdown",
   "id": "3907cf8e-bb66-46dc-998b-1e2cbe3f09ed",
   "metadata": {},
   "source": [
    "## Here I start figuring out the number of incidents per year at Provo Canyon Only."
   ]
  },
  {
   "cell_type": "code",
   "execution_count": null,
   "id": "e6572446-5f0b-4117-8772-6bd4863bda66",
   "metadata": {},
   "outputs": [],
   "source": [
    "# new dataframe\n",
    "count = df[['facility_name','start_date_year']]"
   ]
  },
  {
   "cell_type": "code",
   "execution_count": null,
   "id": "db159418-2472-4093-9fbc-0e81bc0dd388",
   "metadata": {},
   "outputs": [],
   "source": [
    "# only wanted values for provo canyon\n",
    "prov = count[count['facility_name']=='provo_canyon_school_provo_canyon_school___critical_incidents']"
   ]
  },
  {
   "cell_type": "code",
   "execution_count": null,
   "id": "79bbbdcf-50ed-45ca-8545-38346afa180c",
   "metadata": {},
   "outputs": [],
   "source": [
    "prov1=prov.copy()"
   ]
  },
  {
   "cell_type": "code",
   "execution_count": null,
   "id": "77c6b96c-aefb-46a7-8c2e-a05da1679ae0",
   "metadata": {},
   "outputs": [],
   "source": [
    "# Cleaning time again!!\n",
    "prov1['facility_name']=prov1['facility_name'].str.replace('__critical_incidents', '')"
   ]
  },
  {
   "cell_type": "code",
   "execution_count": null,
   "id": "53617db9-164d-4a6d-8167-0d2302564537",
   "metadata": {},
   "outputs": [],
   "source": [
    "prov1['facility_name']=prov1['facility_name'].str.replace('_',' ')"
   ]
  },
  {
   "cell_type": "code",
   "execution_count": null,
   "id": "366fed43-08c1-4224-9545-50cb4a09858f",
   "metadata": {},
   "outputs": [],
   "source": [
    "prov1['facility_name']=prov1['facility_name'].str.title()"
   ]
  },
  {
   "cell_type": "code",
   "execution_count": null,
   "id": "949d6a2b-635c-4ea7-afe5-217d5d107850",
   "metadata": {},
   "outputs": [],
   "source": [
    "prov1['facility_name']=prov1['facility_name'].str.replace(\"Provo Canyon School\",'',1)"
   ]
  },
  {
   "cell_type": "code",
   "execution_count": null,
   "id": "43664925-6ac9-455e-a07c-c24c12ba914a",
   "metadata": {},
   "outputs": [],
   "source": [
    "# Wanted to see how many incidents per year there were at Provo\n",
    "prov2 = prov1.start_date_year.value_counts().rename_axis('Year').reset_index(name='Incidents')\n",
    "prov2"
   ]
  },
  {
   "cell_type": "code",
   "execution_count": null,
   "id": "ff582fc7-dc44-417b-a300-c7e52316807a",
   "metadata": {},
   "outputs": [],
   "source": [
    "prov2.columns"
   ]
  },
  {
   "cell_type": "code",
   "execution_count": null,
   "id": "e6305ab5-6714-4101-a835-af96b765ee87",
   "metadata": {},
   "outputs": [],
   "source": [
    "prov2['Year'] = prov2['Year'].astype(str)"
   ]
  },
  {
   "cell_type": "code",
   "execution_count": null,
   "id": "d40eb772-396b-46ff-b820-f497dbed2d22",
   "metadata": {},
   "outputs": [],
   "source": [
    "prov2['Year'] = prov2['Year'].str.replace('.','',1)"
   ]
  },
  {
   "cell_type": "code",
   "execution_count": null,
   "id": "51bb52ea-2dd8-4ff0-a1e9-e0d0932ef21c",
   "metadata": {},
   "outputs": [],
   "source": [
    "prov2['Year'] = prov2['Year'].str[:-1]"
   ]
  },
  {
   "cell_type": "code",
   "execution_count": null,
   "id": "c2e9ab8c-f4bc-4195-9dc3-ef5621d260f7",
   "metadata": {},
   "outputs": [],
   "source": [
    "prov2"
   ]
  },
  {
   "cell_type": "code",
   "execution_count": null,
   "id": "39e23b62-d71c-418f-832f-89c1257a8da9",
   "metadata": {},
   "outputs": [],
   "source": [
    "alt.Chart(prov2, title='Provo Incidents by Year').mark_bar().encode(\n",
    "x=alt.X('Year',axis=alt.Axis(labelAngle=0)),y='Incidents',).properties(\n",
    "    width=500,\n",
    "    height=500)"
   ]
  },
  {
   "cell_type": "markdown",
   "id": "0b491f07-d943-482e-96f8-8fc0fb7a81b7",
   "metadata": {},
   "source": [
    "# Here I figure out the total # of incidents per year at all facilities."
   ]
  },
  {
   "cell_type": "code",
   "execution_count": null,
   "id": "d86aa8b6-989f-4b57-b330-4f557a9cd581",
   "metadata": {},
   "outputs": [],
   "source": [
    "dfstart=df['start_date_year'] # the reason i use start date is because some investigations might\n",
    "#not be finished, so they wouldn't appear in the finalzied dat year."
   ]
  },
  {
   "cell_type": "code",
   "execution_count": null,
   "id": "ac89b71d-9aa2-4567-a0a1-2549264894a4",
   "metadata": {},
   "outputs": [],
   "source": [
    "# total number of investigations by year\n",
    "dfstart.value_counts()"
   ]
  },
  {
   "cell_type": "markdown",
   "id": "608e28ac-8de3-4a2d-8371-b9c5661ba0b5",
   "metadata": {},
   "source": [
    "# Below, I'm curious as to how many empty values there are per category."
   ]
  },
  {
   "cell_type": "code",
   "execution_count": null,
   "id": "ae3a0bd0-5192-4077-9796-64229a71fe73",
   "metadata": {},
   "outputs": [],
   "source": [
    "df.reported_date_year.isna().sum()"
   ]
  },
  {
   "cell_type": "code",
   "execution_count": null,
   "id": "31280893-79a3-4017-a6ab-0619fc943c6c",
   "metadata": {},
   "outputs": [],
   "source": [
    "df.start_date_year.isna().sum()"
   ]
  },
  {
   "cell_type": "code",
   "execution_count": null,
   "id": "bd41e288-76b0-4795-a8ff-6eef9475b4cc",
   "metadata": {},
   "outputs": [],
   "source": [
    "df.finalized_date_year.isna().sum()"
   ]
  },
  {
   "cell_type": "code",
   "execution_count": null,
   "id": "1b6b90f1-a2ec-4db8-a4db-e270c7b8d805",
   "metadata": {},
   "outputs": [],
   "source": [
    "print(f'''\n",
    "     Reported Date Year NA = {df.reported_date_year.isna().sum()}\n",
    "     Start Date Year NA = {df.start_date_year.isna().sum()}\n",
    "     Finalized Date Year NA = {df.finalized_date_year.isna().sum()}\n",
    "     Incident Date Year NA = {df.incident_date_year.isna().sum()}''')"
   ]
  }
 ],
 "metadata": {
  "kernelspec": {
   "display_name": "Python 3",
   "language": "python",
   "name": "python3"
  },
  "language_info": {
   "codemirror_mode": {
    "name": "ipython",
    "version": 3
   },
   "file_extension": ".py",
   "mimetype": "text/x-python",
   "name": "python",
   "nbconvert_exporter": "python",
   "pygments_lexer": "ipython3",
   "version": "3.8.8"
  }
 },
 "nbformat": 4,
 "nbformat_minor": 5
}
