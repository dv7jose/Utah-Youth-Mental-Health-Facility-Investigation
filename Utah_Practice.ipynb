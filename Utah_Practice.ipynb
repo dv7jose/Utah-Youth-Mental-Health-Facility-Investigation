{
 "cells": [
  {
   "cell_type": "markdown",
   "id": "8cd06022-8094-4b3f-9388-c9c6f0f3e159",
   "metadata": {},
   "source": [
    "# Critical Incidents in Youth Mental Health Facilities in Utah\n",
    "\n",
    "[Story](https://www.apmreports.org/story/2021/06/23/provo-canyon-school-utah-teen-concussion): Utah Found Few Rule Violations for Years<br /> \n",
    "Data Reporter: Will Craft, wcraft@apmreports.org<br /> \n",
    "Data Analysis Fact Checker: José Martínez, martinez307jose@gmail.com\n",
    "\n",
    "\n",
    "\"Up until 2019, the agency regulating Utah’s massive youth treatment industry rarely cited facilities for violating rules — even after cases of abuse. After a 2016 incident left a teenager with a concussion, state regulators listened to his mom’s complaint — and then did nothing about it.\"\n",
    "\n",
    "\"The lack of enforcement came to light thanks to a trove of never-before-seen records published this year by The Salt Lake Tribune, APM Reports and KUER. The three news organizations joined forces to publish five years of inspection reports and citations for rule violations from the 159 residential and wilderness programs that operated in Utah during that time period.\"\n",
    "\n",
    "### Data Overview\n",
    "\n",
    "The raw data was obtained through a records request made by APM Reports. Dozens of pdf files were scraped into the following spreadsheet: \"cleaned_critical_incidents.csv\"\n",
    "\n",
    "The spreadsheet contains all the critical incidents reports filed by youth mental health facilities around Utah. The spreadsheet contains the following:\n",
    "• Facility\n",
    "• Investigation name\n",
    "• Summary of the incident\n",
    "• Conclusion\n",
    "• Timeline concerning the start and end date of the investigation\n",
    "• Date that the incident occurred.\n",
    "\n",
    "With that information, we used pandas to filter investigations by facility, filter investigations by year, and filter investigations concerning sexual abuse or conduct by year.\n",
    "\n",
    "Will Craft led the data analysis, and as a way to begin my internship with APM Reports, he had me fact check his work for this story so that I can warm up my data analysis skills.\n",
    "\n",
    "It's important to note that the final chart in the story has different numbers than the original analysis. Reason being, the leading reporters added notice of agency actions from https://hslic.utah.gov/notices-of-agency-action. That is not reflected in this analysis.\n"
   ]
  },
  {
   "cell_type": "code",
   "execution_count": 1,
   "id": "06dee147-47eb-42cf-a6fa-be90646785bb",
   "metadata": {},
   "outputs": [],
   "source": [
    "import pandas as pd"
   ]
  },
  {
   "cell_type": "code",
   "execution_count": 2,
   "id": "5a128e15-4071-45f3-b7b3-ba719edb4ecc",
   "metadata": {},
   "outputs": [],
   "source": [
    "import altair as alt"
   ]
  },
  {
   "cell_type": "code",
   "execution_count": 3,
   "id": "241721ec-a862-44f7-aaca-cb2868d29614",
   "metadata": {},
   "outputs": [],
   "source": [
    "from altair_saver import save"
   ]
  },
  {
   "cell_type": "code",
   "execution_count": 38,
   "id": "db182e33-d7c3-41fc-bbe6-936cc359eb93",
   "metadata": {},
   "outputs": [],
   "source": [
    "from selenium import webdriver "
   ]
  },
  {
   "cell_type": "code",
   "execution_count": 43,
   "id": "2d84f296-f4be-4c6f-adbd-ac427a703712",
   "metadata": {},
   "outputs": [],
   "source": [
    "driver = webdriver.Chrome(executable_path='/Users/josemartinez/Desktop/chromedriver')"
   ]
  },
  {
   "cell_type": "code",
   "execution_count": 4,
   "id": "d358a327-463e-4aa8-af8d-49fec5a648ef",
   "metadata": {},
   "outputs": [],
   "source": [
    "from collections import OrderedDict"
   ]
  },
  {
   "cell_type": "code",
   "execution_count": 5,
   "id": "4a1a9c8a-a57f-4861-8775-157bfd103281",
   "metadata": {},
   "outputs": [
    {
     "data": {
      "text/plain": [
       "RendererRegistry.enable('default')"
      ]
     },
     "execution_count": 5,
     "metadata": {},
     "output_type": "execute_result"
    }
   ],
   "source": [
    "alt.renderers.enable('default')"
   ]
  },
  {
   "cell_type": "code",
   "execution_count": 6,
   "id": "cd8166a3-915a-4379-a449-1074a1a33edd",
   "metadata": {},
   "outputs": [],
   "source": [
    "df = pd.read_csv(\"/Users/josemartinez/Desktop/Code/utah/cleaned_critical_incidents.csv\")"
   ]
  },
  {
   "cell_type": "code",
   "execution_count": 7,
   "id": "07b5feaf-c571-438e-8ece-9a4c0e98fa74",
   "metadata": {},
   "outputs": [
    {
     "data": {
      "text/plain": [
       "Index(['facility_name', 'investigation_name', 'start_date', 'incident_date',\n",
       "       'reported_date', 'finalized_date', 'summary', 'conclusion', 'file_path',\n",
       "       'start_date_year', 'incident_date_year', 'reported_date_year',\n",
       "       'finalized_date_year'],\n",
       "      dtype='object')"
      ]
     },
     "execution_count": 7,
     "metadata": {},
     "output_type": "execute_result"
    }
   ],
   "source": [
    "df.columns"
   ]
  },
  {
   "cell_type": "markdown",
   "id": "e5f5aa29-96c8-4cd9-b70c-9fc176637402",
   "metadata": {},
   "source": [
    "# Below, I start figuring out informatino about sexual misconduct and abuse cases."
   ]
  },
  {
   "cell_type": "code",
   "execution_count": 8,
   "id": "1fd3f218-b813-48a7-8676-bcb7dcaccca6",
   "metadata": {},
   "outputs": [
    {
     "data": {
      "text/plain": [
       "273"
      ]
     },
     "execution_count": 8,
     "metadata": {},
     "output_type": "execute_result"
    }
   ],
   "source": [
    "# Each row is an incident, so I'm figuring out how many incidents there are in total.\n",
    "df.summary.count()"
   ]
  },
  {
   "cell_type": "code",
   "execution_count": 9,
   "id": "be605e94-9fb4-4543-84c6-647c0e410be4",
   "metadata": {},
   "outputs": [
    {
     "data": {
      "text/plain": [
       "36"
      ]
     },
     "execution_count": 9,
     "metadata": {},
     "output_type": "execute_result"
    }
   ],
   "source": [
    "# I was interested in seeing how many incidents involved some sort of sexual abuse or misconduct,\n",
    "# so I searched for the string in the investigation name.\n",
    "df.investigation_name.str.contains('sexual',case=False,regex=False).sum()"
   ]
  },
  {
   "cell_type": "code",
   "execution_count": 10,
   "id": "c59dd982-9a8f-4ef8-ba40-cd29485ca83f",
   "metadata": {},
   "outputs": [
    {
     "data": {
      "text/plain": [
       "13.186813186813188"
      ]
     },
     "execution_count": 10,
     "metadata": {},
     "output_type": "execute_result"
    }
   ],
   "source": [
    "# Percentage of investigations that involve sexual abuse or misconduct.\n",
    "(36/273)*100"
   ]
  },
  {
   "cell_type": "code",
   "execution_count": 11,
   "id": "6663194d-03c8-426e-8a0a-5abefa5d82e3",
   "metadata": {},
   "outputs": [
    {
     "data": {
      "text/plain": [
       "11"
      ]
     },
     "execution_count": 11,
     "metadata": {},
     "output_type": "execute_result"
    }
   ],
   "source": [
    "# However, I had forgotten to check if any values for empty, so I had to account for that\n",
    "df.investigation_name.isna().sum()"
   ]
  },
  {
   "cell_type": "code",
   "execution_count": 12,
   "id": "73e1b333-49d6-4db9-b791-7ef7097f6aa8",
   "metadata": {},
   "outputs": [],
   "source": [
    "# new dataframe with only investigation name and year that it started\n",
    "sa=df[['investigation_name','start_date_year']]"
   ]
  },
  {
   "cell_type": "code",
   "execution_count": 13,
   "id": "0fe33cc9-eada-40e0-a6b2-fd1fb827a866",
   "metadata": {},
   "outputs": [],
   "source": [
    "#Wanted to see how many sexual abuse investigations there were in 2020\n",
    "sa1 = sa[(sa['start_date_year']== 2020)].investigation_name.str.contains('sexual',case=False,regex=False).sum()"
   ]
  },
  {
   "cell_type": "code",
   "execution_count": 14,
   "id": "b996dcf4-0ba1-4fce-be7a-df146f8f0372",
   "metadata": {},
   "outputs": [
    {
     "name": "stdout",
     "output_type": "stream",
     "text": [
      "\n",
      "     Investigations Related to Sexual Misconduct or Abuse in 2020 = 14\n",
      "     Investigations Related to Sexual Misconduct or Abuse in 2019 = 19\n",
      "     Investigations Related to Sexual Misconduct or Abuse in 2018 = 1\n",
      "     Investigations Related to Sexual Misconduct or Abuse in 2017= 0\n"
     ]
    }
   ],
   "source": [
    "# Here, I learned a cool way to print both the analysis of each year and text to categorize it\n",
    "print(f'''\n",
    "     Investigations Related to Sexual Misconduct or Abuse in 2020 = {sa[(sa['start_date_year']== 2020)].investigation_name.str.contains('sexual',case=False,regex=False).sum()}\n",
    "     Investigations Related to Sexual Misconduct or Abuse in 2019 = {sa[(sa['start_date_year']== 2019)].investigation_name.str.contains('sexual',case=False,regex=False).sum()}\n",
    "     Investigations Related to Sexual Misconduct or Abuse in 2018 = {sa[(sa['start_date_year']== 2018)].investigation_name.str.contains('sexual',case=False,regex=False).sum()}\n",
    "     Investigations Related to Sexual Misconduct or Abuse in 2017= {sa[(sa['start_date_year']== 2017)].investigation_name.str.contains('sexual',case=False,regex=False).sum()}''')"
   ]
  },
  {
   "cell_type": "markdown",
   "id": "e18e01bb-4362-4358-9787-3e9b25e65df9",
   "metadata": {},
   "source": [
    "## Below, I start figuring out the number of incidents by facility"
   ]
  },
  {
   "cell_type": "code",
   "execution_count": 15,
   "id": "718a46ea-af28-4bb0-a330-1593781705f3",
   "metadata": {},
   "outputs": [
    {
     "data": {
      "text/html": [
       "<div>\n",
       "<style scoped>\n",
       "    .dataframe tbody tr th:only-of-type {\n",
       "        vertical-align: middle;\n",
       "    }\n",
       "\n",
       "    .dataframe tbody tr th {\n",
       "        vertical-align: top;\n",
       "    }\n",
       "\n",
       "    .dataframe thead th {\n",
       "        text-align: right;\n",
       "    }\n",
       "</style>\n",
       "<table border=\"1\" class=\"dataframe\">\n",
       "  <thead>\n",
       "    <tr style=\"text-align: right;\">\n",
       "      <th></th>\n",
       "      <th>Facilities</th>\n",
       "      <th>Incidents</th>\n",
       "    </tr>\n",
       "  </thead>\n",
       "  <tbody>\n",
       "    <tr>\n",
       "      <th>0</th>\n",
       "      <td>provo_canyon_school_provo_canyon_springville__...</td>\n",
       "      <td>15</td>\n",
       "    </tr>\n",
       "    <tr>\n",
       "      <th>1</th>\n",
       "      <td>provo_canyon_school_provo_canyon_school___crit...</td>\n",
       "      <td>14</td>\n",
       "    </tr>\n",
       "    <tr>\n",
       "      <th>2</th>\n",
       "      <td>youth_health_associates_draper_ranch_yha_drape...</td>\n",
       "      <td>10</td>\n",
       "    </tr>\n",
       "    <tr>\n",
       "      <th>3</th>\n",
       "      <td>three_points_center_three_points_center___crit...</td>\n",
       "      <td>10</td>\n",
       "    </tr>\n",
       "    <tr>\n",
       "      <th>4</th>\n",
       "      <td>synergy_youth_treatment_cornish_synergy_cornis...</td>\n",
       "      <td>9</td>\n",
       "    </tr>\n",
       "    <tr>\n",
       "      <th>...</th>\n",
       "      <td>...</td>\n",
       "      <td>...</td>\n",
       "    </tr>\n",
       "    <tr>\n",
       "      <th>88</th>\n",
       "      <td>alpine_academy_willow_creek_home_willow_creek_...</td>\n",
       "      <td>1</td>\n",
       "    </tr>\n",
       "    <tr>\n",
       "      <th>89</th>\n",
       "      <td>rite_of_passage_formerly_youthtrack_willard_pe...</td>\n",
       "      <td>1</td>\n",
       "    </tr>\n",
       "    <tr>\n",
       "      <th>90</th>\n",
       "      <td>live_for_life_cypress_live_for_life_cypress___...</td>\n",
       "      <td>1</td>\n",
       "    </tr>\n",
       "    <tr>\n",
       "      <th>91</th>\n",
       "      <td>canyon_river_ranch_canyon_river___critical_inc...</td>\n",
       "      <td>1</td>\n",
       "    </tr>\n",
       "    <tr>\n",
       "      <th>92</th>\n",
       "      <td>oxbow_academy_east_oxbow_east___critical_incid...</td>\n",
       "      <td>1</td>\n",
       "    </tr>\n",
       "  </tbody>\n",
       "</table>\n",
       "<p>93 rows × 2 columns</p>\n",
       "</div>"
      ],
      "text/plain": [
       "                                           Facilities  Incidents\n",
       "0   provo_canyon_school_provo_canyon_springville__...         15\n",
       "1   provo_canyon_school_provo_canyon_school___crit...         14\n",
       "2   youth_health_associates_draper_ranch_yha_drape...         10\n",
       "3   three_points_center_three_points_center___crit...         10\n",
       "4   synergy_youth_treatment_cornish_synergy_cornis...          9\n",
       "..                                                ...        ...\n",
       "88  alpine_academy_willow_creek_home_willow_creek_...          1\n",
       "89  rite_of_passage_formerly_youthtrack_willard_pe...          1\n",
       "90  live_for_life_cypress_live_for_life_cypress___...          1\n",
       "91  canyon_river_ranch_canyon_river___critical_inc...          1\n",
       "92  oxbow_academy_east_oxbow_east___critical_incid...          1\n",
       "\n",
       "[93 rows x 2 columns]"
      ]
     },
     "execution_count": 15,
     "metadata": {},
     "output_type": "execute_result"
    }
   ],
   "source": [
    "# here i see the amount of times each facility was mentioned in the doc.\n",
    "# It seems provo canyon springville had the most incidents\n",
    "df1 = df.facility_name.value_counts().rename_axis('Facilities').reset_index(name='Incidents')\n",
    "df1"
   ]
  },
  {
   "cell_type": "code",
   "execution_count": 16,
   "id": "f88f320c-0518-49ba-9dcc-c8d02f274166",
   "metadata": {},
   "outputs": [
    {
     "data": {
      "text/plain": [
       "(93, 2)"
      ]
     },
     "execution_count": 16,
     "metadata": {},
     "output_type": "execute_result"
    }
   ],
   "source": [
    "df1.shape"
   ]
  },
  {
   "cell_type": "code",
   "execution_count": 17,
   "id": "ec6a1db0-f816-4a9b-94dd-b406546b2f74",
   "metadata": {},
   "outputs": [
    {
     "data": {
      "text/html": [
       "<div>\n",
       "<style scoped>\n",
       "    .dataframe tbody tr th:only-of-type {\n",
       "        vertical-align: middle;\n",
       "    }\n",
       "\n",
       "    .dataframe tbody tr th {\n",
       "        vertical-align: top;\n",
       "    }\n",
       "\n",
       "    .dataframe thead th {\n",
       "        text-align: right;\n",
       "    }\n",
       "</style>\n",
       "<table border=\"1\" class=\"dataframe\">\n",
       "  <thead>\n",
       "    <tr style=\"text-align: right;\">\n",
       "      <th></th>\n",
       "      <th>Facilities</th>\n",
       "      <th>Incidents</th>\n",
       "    </tr>\n",
       "  </thead>\n",
       "  <tbody>\n",
       "    <tr>\n",
       "      <th>0</th>\n",
       "      <td>provo_canyon_school_provo_canyon_springville__...</td>\n",
       "      <td>15</td>\n",
       "    </tr>\n",
       "    <tr>\n",
       "      <th>1</th>\n",
       "      <td>provo_canyon_school_provo_canyon_school___crit...</td>\n",
       "      <td>14</td>\n",
       "    </tr>\n",
       "    <tr>\n",
       "      <th>2</th>\n",
       "      <td>youth_health_associates_draper_ranch_yha_drape...</td>\n",
       "      <td>10</td>\n",
       "    </tr>\n",
       "    <tr>\n",
       "      <th>3</th>\n",
       "      <td>three_points_center_three_points_center___crit...</td>\n",
       "      <td>10</td>\n",
       "    </tr>\n",
       "    <tr>\n",
       "      <th>4</th>\n",
       "      <td>synergy_youth_treatment_cornish_synergy_cornis...</td>\n",
       "      <td>9</td>\n",
       "    </tr>\n",
       "  </tbody>\n",
       "</table>\n",
       "</div>"
      ],
      "text/plain": [
       "                                          Facilities  Incidents\n",
       "0  provo_canyon_school_provo_canyon_springville__...         15\n",
       "1  provo_canyon_school_provo_canyon_school___crit...         14\n",
       "2  youth_health_associates_draper_ranch_yha_drape...         10\n",
       "3  three_points_center_three_points_center___crit...         10\n",
       "4  synergy_youth_treatment_cornish_synergy_cornis...          9"
      ]
     },
     "execution_count": 17,
     "metadata": {},
     "output_type": "execute_result"
    }
   ],
   "source": [
    "# Was looking to just see the top five facilities with the most incidents\n",
    "data = df1[:5]\n",
    "data"
   ]
  },
  {
   "cell_type": "code",
   "execution_count": 18,
   "id": "57f4422b-fb1b-467e-96ed-b11adcda4e9c",
   "metadata": {},
   "outputs": [],
   "source": [
    "data1=data.copy()"
   ]
  },
  {
   "cell_type": "code",
   "execution_count": 19,
   "id": "6164443f-bf6f-41b1-809c-8af7e7544008",
   "metadata": {},
   "outputs": [],
   "source": [
    "# Cleaning time!!! Each value has underscores, isnt' capitalized, repeats certain phrases, so it was time to clean.\n",
    "data1['Facilities'] = data1['Facilities'].str.replace('__critical_incidents', '')"
   ]
  },
  {
   "cell_type": "code",
   "execution_count": 20,
   "id": "1397ffc3-3bd6-487d-8d3b-38580e61cb51",
   "metadata": {},
   "outputs": [],
   "source": [
    "data1['Facilities']=data1['Facilities'].str.replace('_',' ')"
   ]
  },
  {
   "cell_type": "code",
   "execution_count": 21,
   "id": "4ae4bcaa-e5a3-4a12-abf2-a6ac1cb24f9d",
   "metadata": {},
   "outputs": [],
   "source": [
    "data1['Facilities']=data1['Facilities'].str.title()"
   ]
  },
  {
   "cell_type": "code",
   "execution_count": 22,
   "id": "74be07fb-ac83-4d09-adf1-5003af93344f",
   "metadata": {},
   "outputs": [],
   "source": [
    "data1['Facilities']=data1['Facilities'].str.replace(\"Provo Canyon School\",'',1)"
   ]
  },
  {
   "cell_type": "code",
   "execution_count": 23,
   "id": "7553b2eb-faf1-4774-a8ab-5db07eb831b8",
   "metadata": {},
   "outputs": [],
   "source": [
    "data1['Facilities']=data1['Facilities'].str.replace('Three Points Center','',1)"
   ]
  },
  {
   "cell_type": "code",
   "execution_count": 24,
   "id": "70e0e729-9489-4cb9-886d-716093f39649",
   "metadata": {},
   "outputs": [],
   "source": [
    "data1['Facilities']=data1['Facilities'].str.replace('Synergy Cornish','',1)"
   ]
  },
  {
   "cell_type": "code",
   "execution_count": 25,
   "id": "bd4b268b-3ba7-4fe0-9284-cc7fd74400ea",
   "metadata": {},
   "outputs": [],
   "source": [
    "data1['Facilities']=data1['Facilities'].str.replace('Yha Draper Ranch','',1)"
   ]
  },
  {
   "cell_type": "code",
   "execution_count": 26,
   "id": "1cd59ff9-3530-4a9a-9519-4aca030cf9e1",
   "metadata": {},
   "outputs": [
    {
     "data": {
      "text/html": [
       "<div>\n",
       "<style scoped>\n",
       "    .dataframe tbody tr th:only-of-type {\n",
       "        vertical-align: middle;\n",
       "    }\n",
       "\n",
       "    .dataframe tbody tr th {\n",
       "        vertical-align: top;\n",
       "    }\n",
       "\n",
       "    .dataframe thead th {\n",
       "        text-align: right;\n",
       "    }\n",
       "</style>\n",
       "<table border=\"1\" class=\"dataframe\">\n",
       "  <thead>\n",
       "    <tr style=\"text-align: right;\">\n",
       "      <th></th>\n",
       "      <th>Facilities</th>\n",
       "      <th>Incidents</th>\n",
       "    </tr>\n",
       "  </thead>\n",
       "  <tbody>\n",
       "    <tr>\n",
       "      <th>0</th>\n",
       "      <td>Provo Canyon Springville</td>\n",
       "      <td>15</td>\n",
       "    </tr>\n",
       "    <tr>\n",
       "      <th>1</th>\n",
       "      <td>Provo Canyon School</td>\n",
       "      <td>14</td>\n",
       "    </tr>\n",
       "    <tr>\n",
       "      <th>2</th>\n",
       "      <td>Youth Health Associates Draper Ranch</td>\n",
       "      <td>10</td>\n",
       "    </tr>\n",
       "    <tr>\n",
       "      <th>3</th>\n",
       "      <td>Three Points Center</td>\n",
       "      <td>10</td>\n",
       "    </tr>\n",
       "    <tr>\n",
       "      <th>4</th>\n",
       "      <td>Synergy Youth Treatment Cornish</td>\n",
       "      <td>9</td>\n",
       "    </tr>\n",
       "  </tbody>\n",
       "</table>\n",
       "</div>"
      ],
      "text/plain": [
       "                               Facilities  Incidents\n",
       "0               Provo Canyon Springville          15\n",
       "1                    Provo Canyon School          14\n",
       "2  Youth Health Associates Draper Ranch           10\n",
       "3                    Three Points Center          10\n",
       "4       Synergy Youth Treatment Cornish            9"
      ]
     },
     "execution_count": 26,
     "metadata": {},
     "output_type": "execute_result"
    }
   ],
   "source": [
    "# Clean data looks great. Nice\n",
    "data1"
   ]
  },
  {
   "cell_type": "code",
   "execution_count": 27,
   "id": "a909e146-4d32-4366-90e5-0cc87a0ef406",
   "metadata": {},
   "outputs": [],
   "source": [
    "# My first ever attempt at visualization!! Will uses altair, so that's where I started.\n",
    "incidents_by_facility =  alt.Chart(data1, title=\"Critical Incidents by Facility\").mark_bar().encode(\n",
    "x=alt.X('Facilities',axis=alt.Axis(labelAngle=0),sort='y'),\n",
    "y='Incidents',\n",
    ").properties(\n",
    "    width=1000,\n",
    "    height=500)"
   ]
  },
  {
   "cell_type": "code",
   "execution_count": 44,
   "id": "c29faf33-f7c0-4678-954e-9e3fc3d837a0",
   "metadata": {},
   "outputs": [],
   "source": [
    "save(incidents_by_facility, \"incidents_by_facility.png\", method='selenium', webdriver=driver)"
   ]
  },
  {
   "cell_type": "markdown",
   "id": "5e709651-2125-49b8-a588-1254265c2853",
   "metadata": {},
   "source": [
    "![Incidents_by_Facility](incidents_by_facility.png)"
   ]
  },
  {
   "cell_type": "markdown",
   "id": "3907cf8e-bb66-46dc-998b-1e2cbe3f09ed",
   "metadata": {},
   "source": [
    "## Here I start figuring out the number of incidents per year at Provo Canyon Only."
   ]
  },
  {
   "cell_type": "code",
   "execution_count": 47,
   "id": "e6572446-5f0b-4117-8772-6bd4863bda66",
   "metadata": {},
   "outputs": [],
   "source": [
    "# new dataframe\n",
    "count = df[['facility_name','start_date_year']]"
   ]
  },
  {
   "cell_type": "code",
   "execution_count": 48,
   "id": "db159418-2472-4093-9fbc-0e81bc0dd388",
   "metadata": {},
   "outputs": [],
   "source": [
    "# only wanted values for provo canyon\n",
    "prov = count[count['facility_name']=='provo_canyon_school_provo_canyon_school___critical_incidents']"
   ]
  },
  {
   "cell_type": "code",
   "execution_count": 49,
   "id": "79bbbdcf-50ed-45ca-8545-38346afa180c",
   "metadata": {},
   "outputs": [],
   "source": [
    "prov1=prov.copy()"
   ]
  },
  {
   "cell_type": "code",
   "execution_count": 50,
   "id": "77c6b96c-aefb-46a7-8c2e-a05da1679ae0",
   "metadata": {},
   "outputs": [],
   "source": [
    "# Cleaning time again!!\n",
    "prov1['facility_name']=prov1['facility_name'].str.replace('__critical_incidents', '')"
   ]
  },
  {
   "cell_type": "code",
   "execution_count": 51,
   "id": "53617db9-164d-4a6d-8167-0d2302564537",
   "metadata": {},
   "outputs": [],
   "source": [
    "prov1['facility_name']=prov1['facility_name'].str.replace('_',' ')"
   ]
  },
  {
   "cell_type": "code",
   "execution_count": 52,
   "id": "366fed43-08c1-4224-9545-50cb4a09858f",
   "metadata": {},
   "outputs": [],
   "source": [
    "prov1['facility_name']=prov1['facility_name'].str.title()"
   ]
  },
  {
   "cell_type": "code",
   "execution_count": 53,
   "id": "949d6a2b-635c-4ea7-afe5-217d5d107850",
   "metadata": {},
   "outputs": [],
   "source": [
    "prov1['facility_name']=prov1['facility_name'].str.replace(\"Provo Canyon School\",'',1)"
   ]
  },
  {
   "cell_type": "code",
   "execution_count": 54,
   "id": "43664925-6ac9-455e-a07c-c24c12ba914a",
   "metadata": {},
   "outputs": [
    {
     "data": {
      "text/html": [
       "<div>\n",
       "<style scoped>\n",
       "    .dataframe tbody tr th:only-of-type {\n",
       "        vertical-align: middle;\n",
       "    }\n",
       "\n",
       "    .dataframe tbody tr th {\n",
       "        vertical-align: top;\n",
       "    }\n",
       "\n",
       "    .dataframe thead th {\n",
       "        text-align: right;\n",
       "    }\n",
       "</style>\n",
       "<table border=\"1\" class=\"dataframe\">\n",
       "  <thead>\n",
       "    <tr style=\"text-align: right;\">\n",
       "      <th></th>\n",
       "      <th>Year</th>\n",
       "      <th>Incidents</th>\n",
       "    </tr>\n",
       "  </thead>\n",
       "  <tbody>\n",
       "    <tr>\n",
       "      <th>0</th>\n",
       "      <td>2019.0</td>\n",
       "      <td>7</td>\n",
       "    </tr>\n",
       "    <tr>\n",
       "      <th>1</th>\n",
       "      <td>2017.0</td>\n",
       "      <td>3</td>\n",
       "    </tr>\n",
       "    <tr>\n",
       "      <th>2</th>\n",
       "      <td>2020.0</td>\n",
       "      <td>2</td>\n",
       "    </tr>\n",
       "    <tr>\n",
       "      <th>3</th>\n",
       "      <td>2018.0</td>\n",
       "      <td>2</td>\n",
       "    </tr>\n",
       "  </tbody>\n",
       "</table>\n",
       "</div>"
      ],
      "text/plain": [
       "     Year  Incidents\n",
       "0  2019.0          7\n",
       "1  2017.0          3\n",
       "2  2020.0          2\n",
       "3  2018.0          2"
      ]
     },
     "execution_count": 54,
     "metadata": {},
     "output_type": "execute_result"
    }
   ],
   "source": [
    "# Wanted to see how many incidents per year there were at Provo\n",
    "prov2 = prov1.start_date_year.value_counts().rename_axis('Year').reset_index(name='Incidents')\n",
    "prov2"
   ]
  },
  {
   "cell_type": "code",
   "execution_count": 55,
   "id": "ff582fc7-dc44-417b-a300-c7e52316807a",
   "metadata": {},
   "outputs": [
    {
     "data": {
      "text/plain": [
       "Index(['Year', 'Incidents'], dtype='object')"
      ]
     },
     "execution_count": 55,
     "metadata": {},
     "output_type": "execute_result"
    }
   ],
   "source": [
    "prov2.columns"
   ]
  },
  {
   "cell_type": "code",
   "execution_count": 56,
   "id": "e6305ab5-6714-4101-a835-af96b765ee87",
   "metadata": {},
   "outputs": [],
   "source": [
    "prov2['Year'] = prov2['Year'].astype(str)"
   ]
  },
  {
   "cell_type": "code",
   "execution_count": 57,
   "id": "d40eb772-396b-46ff-b820-f497dbed2d22",
   "metadata": {},
   "outputs": [
    {
     "name": "stderr",
     "output_type": "stream",
     "text": [
      "<ipython-input-57-733ac7278971>:1: FutureWarning: The default value of regex will change from True to False in a future version. In addition, single character regular expressions will*not* be treated as literal strings when regex=True.\n",
      "  prov2['Year'] = prov2['Year'].str.replace('.','',1)\n"
     ]
    }
   ],
   "source": [
    "prov2['Year'] = prov2['Year'].str.replace('.','',1)"
   ]
  },
  {
   "cell_type": "code",
   "execution_count": 58,
   "id": "51bb52ea-2dd8-4ff0-a1e9-e0d0932ef21c",
   "metadata": {},
   "outputs": [],
   "source": [
    "prov2['Year'] = prov2['Year'].str[:-1]"
   ]
  },
  {
   "cell_type": "code",
   "execution_count": 59,
   "id": "c2e9ab8c-f4bc-4195-9dc3-ef5621d260f7",
   "metadata": {},
   "outputs": [
    {
     "data": {
      "text/html": [
       "<div>\n",
       "<style scoped>\n",
       "    .dataframe tbody tr th:only-of-type {\n",
       "        vertical-align: middle;\n",
       "    }\n",
       "\n",
       "    .dataframe tbody tr th {\n",
       "        vertical-align: top;\n",
       "    }\n",
       "\n",
       "    .dataframe thead th {\n",
       "        text-align: right;\n",
       "    }\n",
       "</style>\n",
       "<table border=\"1\" class=\"dataframe\">\n",
       "  <thead>\n",
       "    <tr style=\"text-align: right;\">\n",
       "      <th></th>\n",
       "      <th>Year</th>\n",
       "      <th>Incidents</th>\n",
       "    </tr>\n",
       "  </thead>\n",
       "  <tbody>\n",
       "    <tr>\n",
       "      <th>0</th>\n",
       "      <td>2019</td>\n",
       "      <td>7</td>\n",
       "    </tr>\n",
       "    <tr>\n",
       "      <th>1</th>\n",
       "      <td>2017</td>\n",
       "      <td>3</td>\n",
       "    </tr>\n",
       "    <tr>\n",
       "      <th>2</th>\n",
       "      <td>2020</td>\n",
       "      <td>2</td>\n",
       "    </tr>\n",
       "    <tr>\n",
       "      <th>3</th>\n",
       "      <td>2018</td>\n",
       "      <td>2</td>\n",
       "    </tr>\n",
       "  </tbody>\n",
       "</table>\n",
       "</div>"
      ],
      "text/plain": [
       "   Year  Incidents\n",
       "0  2019          7\n",
       "1  2017          3\n",
       "2  2020          2\n",
       "3  2018          2"
      ]
     },
     "execution_count": 59,
     "metadata": {},
     "output_type": "execute_result"
    }
   ],
   "source": [
    "prov2"
   ]
  },
  {
   "cell_type": "code",
   "execution_count": 60,
   "id": "39e23b62-d71c-418f-832f-89c1257a8da9",
   "metadata": {},
   "outputs": [],
   "source": [
    "provo_inc_by_year = alt.Chart(prov2, title='Provo Incidents by Year').mark_bar().encode(\n",
    "x=alt.X('Year',axis=alt.Axis(labelAngle=0)),y='Incidents',).properties(\n",
    "    width=500,\n",
    "    height=500)"
   ]
  },
  {
   "cell_type": "code",
   "execution_count": 61,
   "id": "c0a38a69-6f3a-4bad-807b-66d1539b82aa",
   "metadata": {},
   "outputs": [],
   "source": [
    "save(provo_inc_by_year, \"provo_inc_by_year.png\", method='selenium', webdriver=driver)"
   ]
  },
  {
   "cell_type": "markdown",
   "id": "38fe8b4d-ffcf-40b7-8ecf-14977de65c1c",
   "metadata": {},
   "source": [
    "![Provo Incidents by Year](provo_inc_by_year.png)"
   ]
  },
  {
   "cell_type": "markdown",
   "id": "0b491f07-d943-482e-96f8-8fc0fb7a81b7",
   "metadata": {},
   "source": [
    "# Here I figure out the total # of incidents per year at all facilities."
   ]
  },
  {
   "cell_type": "code",
   "execution_count": 63,
   "id": "d86aa8b6-989f-4b57-b330-4f557a9cd581",
   "metadata": {},
   "outputs": [],
   "source": [
    "dfstart=df['start_date_year'] # the reason i use start date is because some investigations might\n",
    "#not be finished, so they wouldn't appear in the finalzied dat year."
   ]
  },
  {
   "cell_type": "code",
   "execution_count": 64,
   "id": "ac89b71d-9aa2-4567-a0a1-2549264894a4",
   "metadata": {},
   "outputs": [
    {
     "data": {
      "text/plain": [
       "2019.0    126\n",
       "2020.0    112\n",
       "2018.0     21\n",
       "2017.0      9\n",
       "Name: start_date_year, dtype: int64"
      ]
     },
     "execution_count": 64,
     "metadata": {},
     "output_type": "execute_result"
    }
   ],
   "source": [
    "# total number of investigations by year\n",
    "dfstart.value_counts()"
   ]
  },
  {
   "cell_type": "markdown",
   "id": "608e28ac-8de3-4a2d-8371-b9c5661ba0b5",
   "metadata": {},
   "source": [
    "# Below, I'm curious as to how many empty values there are per category."
   ]
  },
  {
   "cell_type": "code",
   "execution_count": 65,
   "id": "ae3a0bd0-5192-4077-9796-64229a71fe73",
   "metadata": {},
   "outputs": [
    {
     "data": {
      "text/plain": [
       "70"
      ]
     },
     "execution_count": 65,
     "metadata": {},
     "output_type": "execute_result"
    }
   ],
   "source": [
    "df.reported_date_year.isna().sum()"
   ]
  },
  {
   "cell_type": "code",
   "execution_count": 66,
   "id": "31280893-79a3-4017-a6ab-0619fc943c6c",
   "metadata": {},
   "outputs": [
    {
     "data": {
      "text/plain": [
       "5"
      ]
     },
     "execution_count": 66,
     "metadata": {},
     "output_type": "execute_result"
    }
   ],
   "source": [
    "df.start_date_year.isna().sum()"
   ]
  },
  {
   "cell_type": "code",
   "execution_count": 67,
   "id": "bd41e288-76b0-4795-a8ff-6eef9475b4cc",
   "metadata": {},
   "outputs": [
    {
     "data": {
      "text/plain": [
       "3"
      ]
     },
     "execution_count": 67,
     "metadata": {},
     "output_type": "execute_result"
    }
   ],
   "source": [
    "df.finalized_date_year.isna().sum()"
   ]
  },
  {
   "cell_type": "code",
   "execution_count": 68,
   "id": "1b6b90f1-a2ec-4db8-a4db-e270c7b8d805",
   "metadata": {},
   "outputs": [
    {
     "name": "stdout",
     "output_type": "stream",
     "text": [
      "\n",
      "     Reported Date Year NA = 70\n",
      "     Start Date Year NA = 5\n",
      "     Finalized Date Year NA = 3\n",
      "     Incident Date Year NA = 72\n"
     ]
    }
   ],
   "source": [
    "print(f'''\n",
    "     Reported Date Year NA = {df.reported_date_year.isna().sum()}\n",
    "     Start Date Year NA = {df.start_date_year.isna().sum()}\n",
    "     Finalized Date Year NA = {df.finalized_date_year.isna().sum()}\n",
    "     Incident Date Year NA = {df.incident_date_year.isna().sum()}''')"
   ]
  },
  {
   "cell_type": "code",
   "execution_count": null,
   "id": "2a803db5-b29f-406d-b79e-818c9643b176",
   "metadata": {},
   "outputs": [],
   "source": []
  }
 ],
 "metadata": {
  "kernelspec": {
   "display_name": "Python 3",
   "language": "python",
   "name": "python3"
  },
  "language_info": {
   "codemirror_mode": {
    "name": "ipython",
    "version": 3
   },
   "file_extension": ".py",
   "mimetype": "text/x-python",
   "name": "python",
   "nbconvert_exporter": "python",
   "pygments_lexer": "ipython3",
   "version": "3.8.8"
  }
 },
 "nbformat": 4,
 "nbformat_minor": 5
}
