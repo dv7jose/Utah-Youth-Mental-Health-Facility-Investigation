{
 "cells": [
  {
   "cell_type": "markdown",
   "id": "8cd06022-8094-4b3f-9388-c9c6f0f3e159",
   "metadata": {},
   "source": [
    "# Critical Incidents in Youth Mental Health Facilities in Utah\n",
    "\n",
    "Story: Utah Found Few Rule Violations for Years<br /> \n",
    "Data Reporter: Will Craft, wcraft@apmreports.org\n",
    "\n",
    "An APM Reports analysis of cricitical incident reports filed by youth mental health facilities in Utah found that the state...\n",
    "\n",
    "### Data Overview\n",
    "\n",
    "The raw data was obtained through a records request made by APM Reports. Dozens of pdf files were scraped into the following spreadsheet: \"cleaned_critical_incidents.csv\"\n",
    "\n",
    "The spreadsheet contains all the critical incidents reports filed by youth mental health facilities around Utah. The spreadsheet contains information such as the facility, investigation name, the summary of the incident, the conclusion, a timeline concerning the start and end date of the investigation and the date that the incident occurred.\n",
    "\n",
    "With that information, we used pandas to filter investigations by facility, filter investigations by year, and filter investigations concerning sexual abuse or conduct by year.\n"
   ]
  },
  {
   "cell_type": "code",
   "execution_count": 46,
   "id": "06dee147-47eb-42cf-a6fa-be90646785bb",
   "metadata": {},
   "outputs": [],
   "source": [
    "import pandas as pd"
   ]
  },
  {
   "cell_type": "code",
   "execution_count": 47,
   "id": "5a128e15-4071-45f3-b7b3-ba719edb4ecc",
   "metadata": {},
   "outputs": [],
   "source": [
    "import altair as alt"
   ]
  },
  {
   "cell_type": "code",
   "execution_count": 48,
   "id": "d358a327-463e-4aa8-af8d-49fec5a648ef",
   "metadata": {},
   "outputs": [],
   "source": [
    "from collections import OrderedDict"
   ]
  },
  {
   "cell_type": "code",
   "execution_count": 49,
   "id": "4a1a9c8a-a57f-4861-8775-157bfd103281",
   "metadata": {},
   "outputs": [
    {
     "data": {
      "text/plain": [
       "RendererRegistry.enable('default')"
      ]
     },
     "execution_count": 49,
     "metadata": {},
     "output_type": "execute_result"
    }
   ],
   "source": [
    "alt.renderers.enable('default')"
   ]
  },
  {
   "cell_type": "code",
   "execution_count": 261,
   "id": "cd8166a3-915a-4379-a449-1074a1a33edd",
   "metadata": {},
   "outputs": [],
   "source": [
    "df = pd.read_csv(\"/Users/josemartinez/Desktop/cleaned_critical_incidents.csv\")"
   ]
  },
  {
   "cell_type": "code",
   "execution_count": 262,
   "id": "07b5feaf-c571-438e-8ece-9a4c0e98fa74",
   "metadata": {},
   "outputs": [
    {
     "data": {
      "text/plain": [
       "Index(['facility_name', 'investigation_name', 'start_date', 'incident_date',\n",
       "       'reported_date', 'finalized_date', 'summary', 'conclusion', 'file_path',\n",
       "       'start_date_year', 'incident_date_year', 'reported_date_year',\n",
       "       'finalized_date_year'],\n",
       "      dtype='object')"
      ]
     },
     "execution_count": 262,
     "metadata": {},
     "output_type": "execute_result"
    }
   ],
   "source": [
    "df.columns"
   ]
  },
  {
   "cell_type": "markdown",
   "id": "e5f5aa29-96c8-4cd9-b70c-9fc176637402",
   "metadata": {},
   "source": [
    "# Here I start figuring out sexual misconduct and abuse cases"
   ]
  },
  {
   "cell_type": "code",
   "execution_count": 263,
   "id": "1fd3f218-b813-48a7-8676-bcb7dcaccca6",
   "metadata": {},
   "outputs": [
    {
     "data": {
      "text/plain": [
       "273"
      ]
     },
     "execution_count": 263,
     "metadata": {},
     "output_type": "execute_result"
    }
   ],
   "source": [
    "df.summary.count()"
   ]
  },
  {
   "cell_type": "code",
   "execution_count": 264,
   "id": "be605e94-9fb4-4543-84c6-647c0e410be4",
   "metadata": {},
   "outputs": [
    {
     "data": {
      "text/plain": [
       "36"
      ]
     },
     "execution_count": 264,
     "metadata": {},
     "output_type": "execute_result"
    }
   ],
   "source": [
    "df.investigation_name.str.contains('sexual',case=False,regex=False).sum()"
   ]
  },
  {
   "cell_type": "code",
   "execution_count": 265,
   "id": "c59dd982-9a8f-4ef8-ba40-cd29485ca83f",
   "metadata": {},
   "outputs": [
    {
     "data": {
      "text/plain": [
       "13.186813186813188"
      ]
     },
     "execution_count": 265,
     "metadata": {},
     "output_type": "execute_result"
    }
   ],
   "source": [
    "(36/273)*100"
   ]
  },
  {
   "cell_type": "code",
   "execution_count": 266,
   "id": "6663194d-03c8-426e-8a0a-5abefa5d82e3",
   "metadata": {},
   "outputs": [
    {
     "data": {
      "text/plain": [
       "11"
      ]
     },
     "execution_count": 266,
     "metadata": {},
     "output_type": "execute_result"
    }
   ],
   "source": [
    "df.investigation_name.isna().sum()"
   ]
  },
  {
   "cell_type": "code",
   "execution_count": 267,
   "id": "73e1b333-49d6-4db9-b791-7ef7097f6aa8",
   "metadata": {},
   "outputs": [],
   "source": [
    "sa=df[['investigation_name','start_date_year']]"
   ]
  },
  {
   "cell_type": "code",
   "execution_count": 269,
   "id": "0fe33cc9-eada-40e0-a6b2-fd1fb827a866",
   "metadata": {},
   "outputs": [],
   "source": [
    "sa1 = sa[(sa['start_date_year']== 2020)].investigation_name.str.contains('sexual',case=False,regex=False).sum()"
   ]
  },
  {
   "cell_type": "code",
   "execution_count": 270,
   "id": "b996dcf4-0ba1-4fce-be7a-df146f8f0372",
   "metadata": {},
   "outputs": [
    {
     "name": "stdout",
     "output_type": "stream",
     "text": [
      "\n",
      "     Investigations Related to Sexual Misconduct or Abuse in 2020 = 14\n",
      "     Investigations Related to Sexual Misconduct or Abuse in 2019 = 19\n",
      "     Investigations Related to Sexual Misconduct or Abuse in 2018 = 1\n",
      "     Investigations Related to Sexual Misconduct or Abuse in 2017= 0\n"
     ]
    }
   ],
   "source": [
    "print(f'''\n",
    "     Investigations Related to Sexual Misconduct or Abuse in 2020 = {sa[(sa['start_date_year']== 2020)].investigation_name.str.contains('sexual',case=False,regex=False).sum()}\n",
    "     Investigations Related to Sexual Misconduct or Abuse in 2019 = {sa[(sa['start_date_year']== 2019)].investigation_name.str.contains('sexual',case=False,regex=False).sum()}\n",
    "     Investigations Related to Sexual Misconduct or Abuse in 2018 = {sa[(sa['start_date_year']== 2018)].investigation_name.str.contains('sexual',case=False,regex=False).sum()}\n",
    "     Investigations Related to Sexual Misconduct or Abuse in 2017= {sa[(sa['start_date_year']== 2017)].investigation_name.str.contains('sexual',case=False,regex=False).sum()}''')"
   ]
  },
  {
   "cell_type": "markdown",
   "id": "e18e01bb-4362-4358-9787-3e9b25e65df9",
   "metadata": {},
   "source": [
    "## Here I start figuring out the number of incidents by facility"
   ]
  },
  {
   "cell_type": "code",
   "execution_count": 274,
   "id": "271d9b82-48c6-4252-9e86-9e5b3a905df4",
   "metadata": {},
   "outputs": [
    {
     "data": {
      "text/plain": [
       "provo_canyon_school_provo_canyon_springville___critical_incidents             15\n",
       "provo_canyon_school_provo_canyon_school___critical_incidents                  14\n",
       "youth_health_associates_draper_ranch_yha_draper_ranch___critical_incidents    10\n",
       "three_points_center_three_points_center___critical_incidents                  10\n",
       "synergy_youth_treatment_cornish_synergy_cornish___critical_incidents           9\n",
       "                                                                              ..\n",
       "live_for_life_cypress_live_for_life_cypress___critical_incidents               1\n",
       "compass_academy_compass___critical_incidents                                   1\n",
       "maple_lake_academy_boys_home_maple_lake_boys___critical_incidents              1\n",
       "canyon_river_ranch_canyon_river___critical_incidents                           1\n",
       "daniels_academy_heber_house_heber_house___critical_incidents                   1\n",
       "Name: facility_name, Length: 93, dtype: int64"
      ]
     },
     "execution_count": 274,
     "metadata": {},
     "output_type": "execute_result"
    }
   ],
   "source": [
    "df.facility_name.value_counts()"
   ]
  },
  {
   "cell_type": "code",
   "execution_count": 61,
   "id": "718a46ea-af28-4bb0-a330-1593781705f3",
   "metadata": {},
   "outputs": [],
   "source": [
    "df1 = df.facility_name.value_counts().rename_axis('Facilities').reset_index(name='Incidents')"
   ]
  },
  {
   "cell_type": "code",
   "execution_count": 62,
   "id": "f88f320c-0518-49ba-9dcc-c8d02f274166",
   "metadata": {},
   "outputs": [
    {
     "data": {
      "text/plain": [
       "(93, 2)"
      ]
     },
     "execution_count": 62,
     "metadata": {},
     "output_type": "execute_result"
    }
   ],
   "source": [
    "df1.shape"
   ]
  },
  {
   "cell_type": "code",
   "execution_count": 115,
   "id": "ec6a1db0-f816-4a9b-94dd-b406546b2f74",
   "metadata": {},
   "outputs": [],
   "source": [
    "data = df1[:5]"
   ]
  },
  {
   "cell_type": "code",
   "execution_count": 116,
   "id": "57f4422b-fb1b-467e-96ed-b11adcda4e9c",
   "metadata": {},
   "outputs": [],
   "source": [
    "data1=data.copy()"
   ]
  },
  {
   "cell_type": "code",
   "execution_count": 117,
   "id": "6164443f-bf6f-41b1-809c-8af7e7544008",
   "metadata": {},
   "outputs": [],
   "source": [
    "data1['Facilities'] = data1['Facilities'].str.replace('__critical_incidents', '')"
   ]
  },
  {
   "cell_type": "code",
   "execution_count": 118,
   "id": "1397ffc3-3bd6-487d-8d3b-38580e61cb51",
   "metadata": {},
   "outputs": [],
   "source": [
    "data1['Facilities']=data1['Facilities'].str.replace('_',' ')"
   ]
  },
  {
   "cell_type": "code",
   "execution_count": 119,
   "id": "4ae4bcaa-e5a3-4a12-abf2-a6ac1cb24f9d",
   "metadata": {},
   "outputs": [],
   "source": [
    "data1['Facilities']=data1['Facilities'].str.title()"
   ]
  },
  {
   "cell_type": "code",
   "execution_count": 121,
   "id": "74be07fb-ac83-4d09-adf1-5003af93344f",
   "metadata": {},
   "outputs": [],
   "source": [
    "data1['Facilities']=data1['Facilities'].str.replace(\"Provo Canyon School\",'',1)"
   ]
  },
  {
   "cell_type": "code",
   "execution_count": 123,
   "id": "7553b2eb-faf1-4774-a8ab-5db07eb831b8",
   "metadata": {},
   "outputs": [],
   "source": [
    "data1['Facilities']=data1['Facilities'].str.replace('Three Points Center','',1)"
   ]
  },
  {
   "cell_type": "code",
   "execution_count": 125,
   "id": "70e0e729-9489-4cb9-886d-716093f39649",
   "metadata": {},
   "outputs": [],
   "source": [
    "data1['Facilities']=data1['Facilities'].str.replace('Synergy Cornish','',1)"
   ]
  },
  {
   "cell_type": "code",
   "execution_count": 127,
   "id": "bd4b268b-3ba7-4fe0-9284-cc7fd74400ea",
   "metadata": {},
   "outputs": [],
   "source": [
    "data1['Facilities']=data1['Facilities'].str.replace('Yha Draper Ranch','',1)"
   ]
  },
  {
   "cell_type": "code",
   "execution_count": 128,
   "id": "1cd59ff9-3530-4a9a-9519-4aca030cf9e1",
   "metadata": {},
   "outputs": [
    {
     "data": {
      "text/html": [
       "<div>\n",
       "<style scoped>\n",
       "    .dataframe tbody tr th:only-of-type {\n",
       "        vertical-align: middle;\n",
       "    }\n",
       "\n",
       "    .dataframe tbody tr th {\n",
       "        vertical-align: top;\n",
       "    }\n",
       "\n",
       "    .dataframe thead th {\n",
       "        text-align: right;\n",
       "    }\n",
       "</style>\n",
       "<table border=\"1\" class=\"dataframe\">\n",
       "  <thead>\n",
       "    <tr style=\"text-align: right;\">\n",
       "      <th></th>\n",
       "      <th>Facilities</th>\n",
       "      <th>Incidents</th>\n",
       "    </tr>\n",
       "  </thead>\n",
       "  <tbody>\n",
       "    <tr>\n",
       "      <th>0</th>\n",
       "      <td>Provo Canyon Springville</td>\n",
       "      <td>15</td>\n",
       "    </tr>\n",
       "    <tr>\n",
       "      <th>1</th>\n",
       "      <td>Provo Canyon School</td>\n",
       "      <td>14</td>\n",
       "    </tr>\n",
       "    <tr>\n",
       "      <th>2</th>\n",
       "      <td>Youth Health Associates Draper Ranch</td>\n",
       "      <td>10</td>\n",
       "    </tr>\n",
       "    <tr>\n",
       "      <th>3</th>\n",
       "      <td>Three Points Center</td>\n",
       "      <td>10</td>\n",
       "    </tr>\n",
       "    <tr>\n",
       "      <th>4</th>\n",
       "      <td>Synergy Youth Treatment Cornish</td>\n",
       "      <td>9</td>\n",
       "    </tr>\n",
       "  </tbody>\n",
       "</table>\n",
       "</div>"
      ],
      "text/plain": [
       "                               Facilities  Incidents\n",
       "0               Provo Canyon Springville          15\n",
       "1                    Provo Canyon School          14\n",
       "2  Youth Health Associates Draper Ranch           10\n",
       "3                    Three Points Center          10\n",
       "4       Synergy Youth Treatment Cornish            9"
      ]
     },
     "execution_count": 128,
     "metadata": {},
     "output_type": "execute_result"
    }
   ],
   "source": [
    "data1"
   ]
  },
  {
   "cell_type": "code",
   "execution_count": 171,
   "id": "a909e146-4d32-4366-90e5-0cc87a0ef406",
   "metadata": {},
   "outputs": [
    {
     "data": {
      "text/html": [
       "\n",
       "<div id=\"altair-viz-cfe64598e1724889b651424e26720365\"></div>\n",
       "<script type=\"text/javascript\">\n",
       "  (function(spec, embedOpt){\n",
       "    let outputDiv = document.currentScript.previousElementSibling;\n",
       "    if (outputDiv.id !== \"altair-viz-cfe64598e1724889b651424e26720365\") {\n",
       "      outputDiv = document.getElementById(\"altair-viz-cfe64598e1724889b651424e26720365\");\n",
       "    }\n",
       "    const paths = {\n",
       "      \"vega\": \"https://cdn.jsdelivr.net/npm//vega@5?noext\",\n",
       "      \"vega-lib\": \"https://cdn.jsdelivr.net/npm//vega-lib?noext\",\n",
       "      \"vega-lite\": \"https://cdn.jsdelivr.net/npm//vega-lite@4.8.1?noext\",\n",
       "      \"vega-embed\": \"https://cdn.jsdelivr.net/npm//vega-embed@6?noext\",\n",
       "    };\n",
       "\n",
       "    function loadScript(lib) {\n",
       "      return new Promise(function(resolve, reject) {\n",
       "        var s = document.createElement('script');\n",
       "        s.src = paths[lib];\n",
       "        s.async = true;\n",
       "        s.onload = () => resolve(paths[lib]);\n",
       "        s.onerror = () => reject(`Error loading script: ${paths[lib]}`);\n",
       "        document.getElementsByTagName(\"head\")[0].appendChild(s);\n",
       "      });\n",
       "    }\n",
       "\n",
       "    function showError(err) {\n",
       "      outputDiv.innerHTML = `<div class=\"error\" style=\"color:red;\">${err}</div>`;\n",
       "      throw err;\n",
       "    }\n",
       "\n",
       "    function displayChart(vegaEmbed) {\n",
       "      vegaEmbed(outputDiv, spec, embedOpt)\n",
       "        .catch(err => showError(`Javascript Error: ${err.message}<br>This usually means there's a typo in your chart specification. See the javascript console for the full traceback.`));\n",
       "    }\n",
       "\n",
       "    if(typeof define === \"function\" && define.amd) {\n",
       "      requirejs.config({paths});\n",
       "      require([\"vega-embed\"], displayChart, err => showError(`Error loading script: ${err.message}`));\n",
       "    } else if (typeof vegaEmbed === \"function\") {\n",
       "      displayChart(vegaEmbed);\n",
       "    } else {\n",
       "      loadScript(\"vega\")\n",
       "        .then(() => loadScript(\"vega-lite\"))\n",
       "        .then(() => loadScript(\"vega-embed\"))\n",
       "        .catch(showError)\n",
       "        .then(() => displayChart(vegaEmbed));\n",
       "    }\n",
       "  })({\"config\": {\"view\": {\"continuousWidth\": 400, \"continuousHeight\": 300}}, \"data\": {\"name\": \"data-2a515307ff2a821b8f933a275dd7adab\"}, \"mark\": \"bar\", \"encoding\": {\"x\": {\"type\": \"nominal\", \"axis\": {\"labelAngle\": 0}, \"field\": \"Facilities\", \"sort\": \"y\"}, \"y\": {\"type\": \"quantitative\", \"field\": \"Incidents\"}}, \"height\": 500, \"title\": \"Critical Incidents by Facility\", \"width\": 1000, \"$schema\": \"https://vega.github.io/schema/vega-lite/v4.8.1.json\", \"datasets\": {\"data-2a515307ff2a821b8f933a275dd7adab\": [{\"Facilities\": \" Provo Canyon Springville \", \"Incidents\": 15}, {\"Facilities\": \" Provo Canyon School \", \"Incidents\": 14}, {\"Facilities\": \"Youth Health Associates Draper Ranch  \", \"Incidents\": 10}, {\"Facilities\": \" Three Points Center \", \"Incidents\": 10}, {\"Facilities\": \"Synergy Youth Treatment Cornish  \", \"Incidents\": 9}]}}, {\"mode\": \"vega-lite\"});\n",
       "</script>"
      ],
      "text/plain": [
       "alt.Chart(...)"
      ]
     },
     "execution_count": 171,
     "metadata": {},
     "output_type": "execute_result"
    }
   ],
   "source": [
    "alt.Chart(data1, title=\"Critical Incidents by Facility\").mark_bar().encode(\n",
    "x=alt.X('Facilities',axis=alt.Axis(labelAngle=0),sort='y'),\n",
    "y='Incidents',\n",
    ").properties(\n",
    "    width=1000,\n",
    "    height=500)"
   ]
  },
  {
   "cell_type": "markdown",
   "id": "3907cf8e-bb66-46dc-998b-1e2cbe3f09ed",
   "metadata": {},
   "source": [
    "## Here I start figuring out the number of incidents per year at Provo Canyon Only."
   ]
  },
  {
   "cell_type": "code",
   "execution_count": 180,
   "id": "e6572446-5f0b-4117-8772-6bd4863bda66",
   "metadata": {},
   "outputs": [],
   "source": [
    "count = df[['facility_name','start_date_year']]"
   ]
  },
  {
   "cell_type": "code",
   "execution_count": 289,
   "id": "db159418-2472-4093-9fbc-0e81bc0dd388",
   "metadata": {},
   "outputs": [],
   "source": [
    "prov = count[count['facility_name']=='provo_canyon_school_provo_canyon_school___critical_incidents']"
   ]
  },
  {
   "cell_type": "code",
   "execution_count": 494,
   "id": "79bbbdcf-50ed-45ca-8545-38346afa180c",
   "metadata": {},
   "outputs": [],
   "source": [
    "prov1=prov.copy()"
   ]
  },
  {
   "cell_type": "code",
   "execution_count": 495,
   "id": "77c6b96c-aefb-46a7-8c2e-a05da1679ae0",
   "metadata": {},
   "outputs": [],
   "source": [
    "prov1['facility_name']=prov1['facility_name'].str.replace('__critical_incidents', '')"
   ]
  },
  {
   "cell_type": "code",
   "execution_count": 496,
   "id": "53617db9-164d-4a6d-8167-0d2302564537",
   "metadata": {},
   "outputs": [],
   "source": [
    "prov1['facility_name']=prov1['facility_name'].str.replace('_',' ')"
   ]
  },
  {
   "cell_type": "code",
   "execution_count": 497,
   "id": "366fed43-08c1-4224-9545-50cb4a09858f",
   "metadata": {},
   "outputs": [],
   "source": [
    "prov1['facility_name']=prov1['facility_name'].str.title()"
   ]
  },
  {
   "cell_type": "code",
   "execution_count": 498,
   "id": "949d6a2b-635c-4ea7-afe5-217d5d107850",
   "metadata": {},
   "outputs": [],
   "source": [
    "prov1['facility_name']=prov1['facility_name'].str.replace(\"Provo Canyon School\",'',1)"
   ]
  },
  {
   "cell_type": "code",
   "execution_count": 499,
   "id": "43664925-6ac9-455e-a07c-c24c12ba914a",
   "metadata": {},
   "outputs": [],
   "source": [
    "prov2 = prov1.start_date_year.value_counts().rename_axis('Year').reset_index(name='Incidents')"
   ]
  },
  {
   "cell_type": "code",
   "execution_count": 500,
   "id": "ff582fc7-dc44-417b-a300-c7e52316807a",
   "metadata": {},
   "outputs": [
    {
     "data": {
      "text/plain": [
       "Index(['Year', 'Incidents'], dtype='object')"
      ]
     },
     "execution_count": 500,
     "metadata": {},
     "output_type": "execute_result"
    }
   ],
   "source": [
    "prov2.columns"
   ]
  },
  {
   "cell_type": "code",
   "execution_count": 502,
   "id": "e6305ab5-6714-4101-a835-af96b765ee87",
   "metadata": {},
   "outputs": [],
   "source": [
    "prov2['Year'] = prov2['Year'].astype(str)"
   ]
  },
  {
   "cell_type": "code",
   "execution_count": 504,
   "id": "d40eb772-396b-46ff-b820-f497dbed2d22",
   "metadata": {},
   "outputs": [
    {
     "name": "stderr",
     "output_type": "stream",
     "text": [
      "<ipython-input-504-733ac7278971>:1: FutureWarning: The default value of regex will change from True to False in a future version. In addition, single character regular expressions will*not* be treated as literal strings when regex=True.\n",
      "  prov2['Year'] = prov2['Year'].str.replace('.','',1)\n"
     ]
    }
   ],
   "source": [
    "prov2['Year'] = prov2['Year'].str.replace('.','',1)"
   ]
  },
  {
   "cell_type": "code",
   "execution_count": 506,
   "id": "51bb52ea-2dd8-4ff0-a1e9-e0d0932ef21c",
   "metadata": {},
   "outputs": [],
   "source": [
    "prov2['Year'] = prov2['Year'].str[:-1]"
   ]
  },
  {
   "cell_type": "code",
   "execution_count": 507,
   "id": "c2e9ab8c-f4bc-4195-9dc3-ef5621d260f7",
   "metadata": {},
   "outputs": [
    {
     "data": {
      "text/html": [
       "<div>\n",
       "<style scoped>\n",
       "    .dataframe tbody tr th:only-of-type {\n",
       "        vertical-align: middle;\n",
       "    }\n",
       "\n",
       "    .dataframe tbody tr th {\n",
       "        vertical-align: top;\n",
       "    }\n",
       "\n",
       "    .dataframe thead th {\n",
       "        text-align: right;\n",
       "    }\n",
       "</style>\n",
       "<table border=\"1\" class=\"dataframe\">\n",
       "  <thead>\n",
       "    <tr style=\"text-align: right;\">\n",
       "      <th></th>\n",
       "      <th>Year</th>\n",
       "      <th>Incidents</th>\n",
       "    </tr>\n",
       "  </thead>\n",
       "  <tbody>\n",
       "    <tr>\n",
       "      <th>0</th>\n",
       "      <td>2019</td>\n",
       "      <td>7</td>\n",
       "    </tr>\n",
       "    <tr>\n",
       "      <th>1</th>\n",
       "      <td>2017</td>\n",
       "      <td>3</td>\n",
       "    </tr>\n",
       "    <tr>\n",
       "      <th>2</th>\n",
       "      <td>2020</td>\n",
       "      <td>2</td>\n",
       "    </tr>\n",
       "    <tr>\n",
       "      <th>3</th>\n",
       "      <td>2018</td>\n",
       "      <td>2</td>\n",
       "    </tr>\n",
       "  </tbody>\n",
       "</table>\n",
       "</div>"
      ],
      "text/plain": [
       "   Year  Incidents\n",
       "0  2019          7\n",
       "1  2017          3\n",
       "2  2020          2\n",
       "3  2018          2"
      ]
     },
     "execution_count": 507,
     "metadata": {},
     "output_type": "execute_result"
    }
   ],
   "source": [
    "prov2"
   ]
  },
  {
   "cell_type": "code",
   "execution_count": 525,
   "id": "39e23b62-d71c-418f-832f-89c1257a8da9",
   "metadata": {},
   "outputs": [
    {
     "data": {
      "text/html": [
       "\n",
       "<div id=\"altair-viz-869e8f7b1b7b434795ea3e1a3e90b205\"></div>\n",
       "<script type=\"text/javascript\">\n",
       "  (function(spec, embedOpt){\n",
       "    let outputDiv = document.currentScript.previousElementSibling;\n",
       "    if (outputDiv.id !== \"altair-viz-869e8f7b1b7b434795ea3e1a3e90b205\") {\n",
       "      outputDiv = document.getElementById(\"altair-viz-869e8f7b1b7b434795ea3e1a3e90b205\");\n",
       "    }\n",
       "    const paths = {\n",
       "      \"vega\": \"https://cdn.jsdelivr.net/npm//vega@5?noext\",\n",
       "      \"vega-lib\": \"https://cdn.jsdelivr.net/npm//vega-lib?noext\",\n",
       "      \"vega-lite\": \"https://cdn.jsdelivr.net/npm//vega-lite@4.8.1?noext\",\n",
       "      \"vega-embed\": \"https://cdn.jsdelivr.net/npm//vega-embed@6?noext\",\n",
       "    };\n",
       "\n",
       "    function loadScript(lib) {\n",
       "      return new Promise(function(resolve, reject) {\n",
       "        var s = document.createElement('script');\n",
       "        s.src = paths[lib];\n",
       "        s.async = true;\n",
       "        s.onload = () => resolve(paths[lib]);\n",
       "        s.onerror = () => reject(`Error loading script: ${paths[lib]}`);\n",
       "        document.getElementsByTagName(\"head\")[0].appendChild(s);\n",
       "      });\n",
       "    }\n",
       "\n",
       "    function showError(err) {\n",
       "      outputDiv.innerHTML = `<div class=\"error\" style=\"color:red;\">${err}</div>`;\n",
       "      throw err;\n",
       "    }\n",
       "\n",
       "    function displayChart(vegaEmbed) {\n",
       "      vegaEmbed(outputDiv, spec, embedOpt)\n",
       "        .catch(err => showError(`Javascript Error: ${err.message}<br>This usually means there's a typo in your chart specification. See the javascript console for the full traceback.`));\n",
       "    }\n",
       "\n",
       "    if(typeof define === \"function\" && define.amd) {\n",
       "      requirejs.config({paths});\n",
       "      require([\"vega-embed\"], displayChart, err => showError(`Error loading script: ${err.message}`));\n",
       "    } else if (typeof vegaEmbed === \"function\") {\n",
       "      displayChart(vegaEmbed);\n",
       "    } else {\n",
       "      loadScript(\"vega\")\n",
       "        .then(() => loadScript(\"vega-lite\"))\n",
       "        .then(() => loadScript(\"vega-embed\"))\n",
       "        .catch(showError)\n",
       "        .then(() => displayChart(vegaEmbed));\n",
       "    }\n",
       "  })({\"config\": {\"view\": {\"continuousWidth\": 400, \"continuousHeight\": 300}}, \"data\": {\"name\": \"data-83d565080d0f23faee3d58b1981d6d92\"}, \"mark\": \"bar\", \"encoding\": {\"x\": {\"type\": \"nominal\", \"axis\": {\"labelAngle\": 0}, \"field\": \"Year\"}, \"y\": {\"type\": \"quantitative\", \"field\": \"Incidents\"}}, \"height\": 500, \"title\": \"Provo Incidents by Year\", \"width\": 500, \"$schema\": \"https://vega.github.io/schema/vega-lite/v4.8.1.json\", \"datasets\": {\"data-83d565080d0f23faee3d58b1981d6d92\": [{\"Year\": \"2019\", \"Incidents\": 7}, {\"Year\": \"2017\", \"Incidents\": 3}, {\"Year\": \"2020\", \"Incidents\": 2}, {\"Year\": \"2018\", \"Incidents\": 2}]}}, {\"mode\": \"vega-lite\"});\n",
       "</script>"
      ],
      "text/plain": [
       "alt.Chart(...)"
      ]
     },
     "execution_count": 525,
     "metadata": {},
     "output_type": "execute_result"
    }
   ],
   "source": [
    "alt.Chart(prov2, title='Provo Incidents by Year').mark_bar().encode(\n",
    "x=alt.X('Year',axis=alt.Axis(labelAngle=0)),y='Incidents',).properties(\n",
    "    width=500,\n",
    "    height=500)"
   ]
  },
  {
   "cell_type": "markdown",
   "id": "0b491f07-d943-482e-96f8-8fc0fb7a81b7",
   "metadata": {},
   "source": [
    "# Here I figure out the # of incidents per year of all facilities"
   ]
  },
  {
   "cell_type": "code",
   "execution_count": 69,
   "id": "d86aa8b6-989f-4b57-b330-4f557a9cd581",
   "metadata": {},
   "outputs": [],
   "source": [
    "dfstart=df['start_date_year']"
   ]
  },
  {
   "cell_type": "code",
   "execution_count": 70,
   "id": "ac89b71d-9aa2-4567-a0a1-2549264894a4",
   "metadata": {},
   "outputs": [
    {
     "data": {
      "text/plain": [
       "2019.0    126\n",
       "2020.0    112\n",
       "2018.0     21\n",
       "2017.0      9\n",
       "Name: start_date_year, dtype: int64"
      ]
     },
     "execution_count": 70,
     "metadata": {},
     "output_type": "execute_result"
    }
   ],
   "source": [
    "dfstart.value_counts()"
   ]
  },
  {
   "cell_type": "code",
   "execution_count": 27,
   "id": "ae3a0bd0-5192-4077-9796-64229a71fe73",
   "metadata": {},
   "outputs": [
    {
     "data": {
      "text/plain": [
       "70"
      ]
     },
     "execution_count": 27,
     "metadata": {},
     "output_type": "execute_result"
    }
   ],
   "source": [
    "df.reported_date_year.isna().sum()"
   ]
  },
  {
   "cell_type": "code",
   "execution_count": 28,
   "id": "31280893-79a3-4017-a6ab-0619fc943c6c",
   "metadata": {},
   "outputs": [
    {
     "data": {
      "text/plain": [
       "5"
      ]
     },
     "execution_count": 28,
     "metadata": {},
     "output_type": "execute_result"
    }
   ],
   "source": [
    "df.start_date_year.isna().sum()"
   ]
  },
  {
   "cell_type": "code",
   "execution_count": 29,
   "id": "bd41e288-76b0-4795-a8ff-6eef9475b4cc",
   "metadata": {},
   "outputs": [
    {
     "data": {
      "text/plain": [
       "3"
      ]
     },
     "execution_count": 29,
     "metadata": {},
     "output_type": "execute_result"
    }
   ],
   "source": [
    "df.finalized_date_year.isna().sum()"
   ]
  },
  {
   "cell_type": "code",
   "execution_count": 30,
   "id": "1b6b90f1-a2ec-4db8-a4db-e270c7b8d805",
   "metadata": {},
   "outputs": [
    {
     "name": "stdout",
     "output_type": "stream",
     "text": [
      "\n",
      "     Reported Date Year NA = 70\n",
      "     Start Date Year NA = 5\n",
      "     Finalized Date Year NA = 3\n",
      "     Incident Date Year NA = 72\n"
     ]
    }
   ],
   "source": [
    "print(f'''\n",
    "     Reported Date Year NA = {df.reported_date_year.isna().sum()}\n",
    "     Start Date Year NA = {df.start_date_year.isna().sum()}\n",
    "     Finalized Date Year NA = {df.finalized_date_year.isna().sum()}\n",
    "     Incident Date Year NA = {df.incident_date_year.isna().sum()}''')"
   ]
  }
 ],
 "metadata": {
  "kernelspec": {
   "display_name": "Python 3",
   "language": "python",
   "name": "python3"
  },
  "language_info": {
   "codemirror_mode": {
    "name": "ipython",
    "version": 3
   },
   "file_extension": ".py",
   "mimetype": "text/x-python",
   "name": "python",
   "nbconvert_exporter": "python",
   "pygments_lexer": "ipython3",
   "version": "3.9.5"
  }
 },
 "nbformat": 4,
 "nbformat_minor": 5
}
