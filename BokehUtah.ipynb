{
 "cells": [
  {
   "cell_type": "code",
   "execution_count": 1,
   "id": "755ec709-e2f8-42c6-a5bd-aae056388745",
   "metadata": {},
   "outputs": [],
   "source": [
    "import pandas as pd"
   ]
  },
  {
   "cell_type": "code",
   "execution_count": 2,
   "id": "f2d225f1-f233-426d-bf45-17b344287aa9",
   "metadata": {},
   "outputs": [],
   "source": [
    "import plotly"
   ]
  },
  {
   "cell_type": "code",
   "execution_count": 3,
   "id": "241c68cf-e87b-46a9-8a17-6c480b40215b",
   "metadata": {},
   "outputs": [],
   "source": [
    "import plotly.graph_objs as go"
   ]
  },
  {
   "cell_type": "code",
   "execution_count": 4,
   "id": "4e4cbcb0-de38-42a3-91e2-376ab935e24e",
   "metadata": {},
   "outputs": [],
   "source": [
    "import cufflinks as cf"
   ]
  },
  {
   "cell_type": "code",
   "execution_count": 14,
   "id": "5021b294-a517-4e92-aaf8-019b18ad6ac2",
   "metadata": {},
   "outputs": [],
   "source": [
    "import chart_studio.plotly as py"
   ]
  },
  {
   "cell_type": "code",
   "execution_count": 5,
   "id": "9c6df1c5-d375-40dc-9927-6a339674536e",
   "metadata": {},
   "outputs": [],
   "source": [
    "df = pd.read_csv(\"/Users/josemartinez/Desktop/cleaned_critical_incidents.csv\")"
   ]
  },
  {
   "cell_type": "code",
   "execution_count": 6,
   "id": "ff7bab86-0a72-45bc-99a9-3bee71d10368",
   "metadata": {},
   "outputs": [],
   "source": [
    "df1 = df.facility_name.value_counts().rename_axis('Facilities').reset_index(name='Incidents')"
   ]
  },
  {
   "cell_type": "code",
   "execution_count": 7,
   "id": "35ddc7ae-c1c6-4b87-bfde-6ff5ec660f82",
   "metadata": {},
   "outputs": [],
   "source": [
    "info = df1[:5]"
   ]
  },
  {
   "cell_type": "code",
   "execution_count": 8,
   "id": "cd5446db-18f2-4c45-9b7d-7e38071991be",
   "metadata": {},
   "outputs": [],
   "source": [
    "data = info.copy()"
   ]
  },
  {
   "cell_type": "code",
   "execution_count": 9,
   "id": "eb0a10b4-9054-4311-8846-1aea3dd7cae0",
   "metadata": {},
   "outputs": [],
   "source": [
    "data['Facilities'] = data['Facilities'].str.replace('__critical_conditions', '').str.replace('_',' ').str.title()"
   ]
  },
  {
   "cell_type": "code",
   "execution_count": 15,
   "id": "5ba34687-a84a-4596-a67c-764477e28606",
   "metadata": {},
   "outputs": [
    {
     "ename": "NameError",
     "evalue": "name 'fig' is not defined",
     "output_type": "error",
     "traceback": [
      "\u001b[0;31m---------------------------------------------------------------------------\u001b[0m",
      "\u001b[0;31mNameError\u001b[0m                                 Traceback (most recent call last)",
      "\u001b[0;32m<ipython-input-15-784fd7de25c2>\u001b[0m in \u001b[0;36m<module>\u001b[0;34m\u001b[0m\n\u001b[0;32m----> 1\u001b[0;31m \u001b[0mfig\u001b[0m\u001b[0;34m.\u001b[0m\u001b[0mshow\u001b[0m\u001b[0;34m(\u001b[0m\u001b[0mdata\u001b[0m\u001b[0;34m)\u001b[0m\u001b[0;34m\u001b[0m\u001b[0;34m\u001b[0m\u001b[0m\n\u001b[0m",
      "\u001b[0;31mNameError\u001b[0m: name 'fig' is not defined"
     ]
    }
   ],
   "source": [
    "fig.show(data)"
   ]
  },
  {
   "cell_type": "code",
   "execution_count": null,
   "id": "51bf89a0-207c-4652-bfa5-ca58f4046221",
   "metadata": {},
   "outputs": [],
   "source": []
  }
 ],
 "metadata": {
  "kernelspec": {
   "display_name": "Python 3",
   "language": "python",
   "name": "python3"
  },
  "language_info": {
   "codemirror_mode": {
    "name": "ipython",
    "version": 3
   },
   "file_extension": ".py",
   "mimetype": "text/x-python",
   "name": "python",
   "nbconvert_exporter": "python",
   "pygments_lexer": "ipython3",
   "version": "3.9.5"
  }
 },
 "nbformat": 4,
 "nbformat_minor": 5
}
